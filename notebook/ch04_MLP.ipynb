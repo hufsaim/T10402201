{
 "cells": [
  {
   "cell_type": "markdown",
   "metadata": {},
   "source": [
    "## Multilayer Perceptrons\n",
    "- 이번 실습에서는 multilayer perceptron model을 이용하여 classification model을 학습시켜봅니다.\n",
    "- hidden layer의 개수, hidden unit의 개수, activation function의 종류를 바꾸는 방법을 익힙니다.\n",
    "- regularization을 위한 방법(weight decay, dropout 등)을 적용하는 방법을 익힙니다.\n",
    "- training set과 validation set의 accuracy가 epoch에 따라 어떻게 변하는지 관찰하여 모델을 학습시켜 봅니다."
   ]
  },
  {
   "cell_type": "code",
   "execution_count": 1,
   "metadata": {},
   "outputs": [],
   "source": [
    "import torch\n",
    "import numpy as np\n",
    "import random\n",
    "import matplotlib.pyplot as plt\n",
    "import pandas as pd\n",
    "import scipy.io as sio\n",
    "import os\n",
    "\n",
    "from torch import nn"
   ]
  },
  {
   "cell_type": "markdown",
   "metadata": {},
   "source": [
    "### ECG데이터 가져오기"
   ]
  },
  {
   "cell_type": "code",
   "execution_count": 2,
   "metadata": {},
   "outputs": [
    {
     "data": {
      "text/html": [
       "<div>\n",
       "<style scoped>\n",
       "    .dataframe tbody tr th:only-of-type {\n",
       "        vertical-align: middle;\n",
       "    }\n",
       "\n",
       "    .dataframe tbody tr th {\n",
       "        vertical-align: top;\n",
       "    }\n",
       "\n",
       "    .dataframe thead th {\n",
       "        text-align: right;\n",
       "    }\n",
       "</style>\n",
       "<table border=\"1\" class=\"dataframe\">\n",
       "  <thead>\n",
       "    <tr style=\"text-align: right;\">\n",
       "      <th></th>\n",
       "      <th>0</th>\n",
       "      <th>1</th>\n",
       "    </tr>\n",
       "  </thead>\n",
       "  <tbody>\n",
       "    <tr>\n",
       "      <th>0</th>\n",
       "      <td>A00001</td>\n",
       "      <td>N</td>\n",
       "    </tr>\n",
       "    <tr>\n",
       "      <th>1</th>\n",
       "      <td>A00002</td>\n",
       "      <td>N</td>\n",
       "    </tr>\n",
       "    <tr>\n",
       "      <th>2</th>\n",
       "      <td>A00003</td>\n",
       "      <td>N</td>\n",
       "    </tr>\n",
       "  </tbody>\n",
       "</table>\n",
       "</div>"
      ],
      "text/plain": [
       "        0  1\n",
       "0  A00001  N\n",
       "1  A00002  N\n",
       "2  A00003  N"
      ]
     },
     "execution_count": 2,
     "metadata": {},
     "output_type": "execute_result"
    }
   ],
   "source": [
    "dpath = '/Users/yoonhonam/Downloads/training2017'\n",
    "d = pd.read_csv(os.path.join(dpath,'REFERENCE.csv'),header=None)\n",
    "d[:3]"
   ]
  },
  {
   "cell_type": "code",
   "execution_count": 3,
   "metadata": {},
   "outputs": [],
   "source": [
    "Nlist = d[d[1]=='N']\n",
    "Alist = d[d[1]=='A']"
   ]
  },
  {
   "cell_type": "code",
   "execution_count": 4,
   "metadata": {},
   "outputs": [],
   "source": [
    "Nvd = 50\n",
    "Nlist_vd = Nlist[-Nvd:]\n",
    "Alist_vd = Alist[-Nvd:]\n",
    "Nlist = Nlist[:-Nvd]\n",
    "Alist = Alist[:-Nvd]"
   ]
  },
  {
   "cell_type": "code",
   "execution_count": 5,
   "metadata": {},
   "outputs": [],
   "source": [
    "def data_iter(batch_size, dpath, Nlist, Alist, L):\n",
    "    num_examplesN = len(Nlist)\n",
    "    num_examplesA = len(Alist)\n",
    "    indicesN = list(range(num_examplesN))\n",
    "    indicesA = list(range(num_examplesA))\n",
    "    # The examples are read at random, in no particular order\n",
    "    random.shuffle(indicesN)\n",
    "    batch_size2 = int(batch_size/2)\n",
    "    for i in range(0, num_examplesN, batch_size):\n",
    "        batch_indicesN = indicesN[i:min(i+batch_size2, num_examplesN)]\n",
    "        random.shuffle(indicesA)\n",
    "        features = torch.zeros((batch_size,L))\n",
    "        labels = torch.zeros((batch_size,))\n",
    "        for bi in range(0, len(batch_indicesN)):\n",
    "            sign = sio.loadmat(os.path.join(dpath,Nlist.iloc[batch_indicesN[bi],0]+'.mat'))  \n",
    "            siga = sio.loadmat(os.path.join(dpath,Alist.iloc[indicesA[bi],0]+'.mat'))\n",
    "            sign = sign['val']\n",
    "            siga = siga['val']            \n",
    "            r1 = random.randint(0,len(sign[0,:])-L)\n",
    "            r2 = random.randint(0,len(siga[0,:])-L)\n",
    "#            r1 = 800\n",
    "#            r2 = 800\n",
    "            features[2*bi,:] = torch.tensor(sign[0,r1:r1+L])\n",
    "            features[2*bi+1,:] = torch.tensor(siga[0,r2:r2+L])\n",
    "            labels[2*bi] = 0\n",
    "            labels[2*bi+1] = 1\n",
    "            \n",
    "        yield 0.001*features, labels"
   ]
  },
  {
   "cell_type": "code",
   "execution_count": 6,
   "metadata": {},
   "outputs": [],
   "source": [
    "L = 2048\n",
    "i = 0\n",
    "for X_tr, y_tr in data_iter(batch_size,dpath,Nlist,Alist,L):\n",
    "    print(X_tr.shape)\n",
    "    print(y_tr.shape)\n",
    "    i=i+1\n",
    "    for n in range(2):\n",
    "        plt.plot(X_tr[n])\n",
    "        plt.title(y_tr[n])\n",
    "        plt.xlabel('samples')\n",
    "        plt.show()\n",
    "    break"
   ]
  },
  {
   "cell_type": "markdown",
   "metadata": {},
   "source": [
    "### Hyperparameter설정"
   ]
  },
  {
   "cell_type": "code",
   "execution_count": null,
   "metadata": {},
   "outputs": [],
   "source": [
    "L = 1024\n",
    "batch_size = 64\n",
    "lr = 0.01\n",
    "num_epochs = 1000"
   ]
  },
  {
   "cell_type": "markdown",
   "metadata": {},
   "source": [
    "### Model, loss function, algorithm"
   ]
  },
  {
   "cell_type": "code",
   "execution_count": null,
   "metadata": {},
   "outputs": [],
   "source": [
    "net = nn.Sequential(nn.Linear(L, L),nn.Dropout(p=0.5),nn.ReLU(),nn.Linear(L,2))   \n",
    "loss = nn.CrossEntropyLoss(reduction='mean')\n",
    "alg = torch.optim.SGD(net.parameters(),lr, weight_decay=0.01)"
   ]
  },
  {
   "cell_type": "markdown",
   "metadata": {},
   "source": [
    "### Model 학습"
   ]
  },
  {
   "cell_type": "code",
   "execution_count": null,
   "metadata": {},
   "outputs": [],
   "source": [
    "epoch_tr_accuracy = []\n",
    "epoch_vd_accuracy = []\n",
    "eval_interval = 10\n",
    "for epoch in range(num_epochs):\n",
    "    l_train = []\n",
    "    i = 0\n",
    "    Ncorrect=0\n",
    "    N=0\n",
    "    for X_tr, y_tr in data_iter(batch_size,dpath,Nlist,Alist,L):\n",
    "        y_tr_pred = net(X_tr)\n",
    "        l = loss(y_tr_pred, y_tr.type(torch.LongTensor))\n",
    "        l_train.append(l.sum().detach().numpy())\n",
    "        l.backward()\n",
    "        alg.step()\n",
    "        alg.zero_grad()\n",
    "        Ncorrect += torch.sum(y_tr==torch.argmax(y_tr_pred.softmax(1),dim=1)).numpy()\n",
    "        N += len(X_tr)\n",
    "        i=i+1\n",
    "    if epoch%eval_interval==0:\n",
    "        print(f'epoch #{epoch},train loss: {np.sum(l_train)/i}')\n",
    "        tr_accuracy = 100*Ncorrect/(N)\n",
    "        print(f'accuracy of train set: {tr_accuracy} %')\n",
    "\n",
    "#        print(f'weights: {net[0].weight[0][:4]}, ...')\n",
    "        for X_vd, y_vd in data_iter(Nvd,dpath,Nlist_vd,Alist_vd,L):\n",
    "            y_vd_pred = net(X_vd)\n",
    "            vd_accuracy = 100*torch.sum(y_vd==torch.argmax(y_vd_pred.softmax(1),dim=1))/Nvd \n",
    "            print(f'accuracy of valid set: {vd_accuracy} %')\n",
    "        epoch_tr_accuracy.append(tr_accuracy)\n",
    "        epoch_vd_accuracy.append(vd_accuracy)\n",
    "\n",
    "x = np.arange(0,num_epochs,eval_interval)\n",
    "plt.plot(x,epoch_tr_accuracy)\n",
    "plt.plot(x,epoch_vd_accuracy)\n",
    "plt.legend(['train set','valid set'])\n",
    "plt.xlabel('epoch')\n",
    "plt.ylabel('accuracy')\n",
    "plt.show()"
   ]
  },
  {
   "cell_type": "code",
   "execution_count": null,
   "metadata": {},
   "outputs": [],
   "source": []
  }
 ],
 "metadata": {
  "interpreter": {
   "hash": "e1315e6714f2518a6216a6eec3b047587d10875bf19b853b35d3e5c84c569e2a"
  },
  "kernelspec": {
   "display_name": "Python 3.8.12 ('torch')",
   "language": "python",
   "name": "python3"
  },
  "language_info": {
   "codemirror_mode": {
    "name": "ipython",
    "version": 3
   },
   "file_extension": ".py",
   "mimetype": "text/x-python",
   "name": "python",
   "nbconvert_exporter": "python",
   "pygments_lexer": "ipython3",
   "version": "3.8.12"
  },
  "orig_nbformat": 4
 },
 "nbformat": 4,
 "nbformat_minor": 2
}
