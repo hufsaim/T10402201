{
  "cells": [
    {
      "cell_type": "markdown",
      "metadata": {
        "id": "view-in-github",
        "colab_type": "text"
      },
      "source": [
        "<a href=\"https://colab.research.google.com/github/hufsaim/T10402201/blob/master/notebook/Lab04_MLP_classification.ipynb\" target=\"_parent\"><img src=\"https://colab.research.google.com/assets/colab-badge.svg\" alt=\"Open In Colab\"/></a>"
      ]
    },
    {
      "cell_type": "markdown",
      "metadata": {
        "id": "lYx84Gg6VBV4"
      },
      "source": [
        "## Multilayer Perceptrons\n",
        "- 이번 실습에서는 multilayer perceptron model을 이용하여 classification model을 학습시켜봅니다.\n",
        "- hidden layer의 개수, hidden unit의 개수, activation function의 종류를 바꾸는 방법을 익힙니다.\n",
        "- regularization을 위한 방법(weight decay, dropout 등)을 적용하는 방법을 익힙니다.\n",
        "- training set과 validation set의 accuracy가 epoch에 따라 어떻게 변하는지 관찰하여 모델을 학습시켜 봅니다."
      ]
    },
    {
      "cell_type": "code",
      "execution_count": 1,
      "metadata": {
        "id": "tmBMaWn-VBV5"
      },
      "outputs": [],
      "source": [
        "import torch\n",
        "import numpy as np\n",
        "import random\n",
        "import matplotlib.pyplot as plt\n",
        "import pandas as pd\n",
        "import scipy.io as sio\n",
        "import os\n",
        "\n",
        "from torch import nn"
      ]
    },
    {
      "cell_type": "markdown",
      "source": [
        "## Softmax & Cross-Entropy Loss"
      ],
      "metadata": {
        "id": "5NGcZrOZVK8a"
      }
    },
    {
      "cell_type": "code",
      "source": [
        "y = torch.tensor([[1.,0,0]])\n",
        "y_hat = torch.tensor([[2,-1.2,3]])\n",
        "\n",
        "# Softmax\n",
        "y_hat_softmax = torch.exp(y_hat) / torch.sum(torch.exp(y_hat))\n",
        "print(y_hat_softmax)\n",
        "\n",
        "# Cross Entropy Loss\n",
        "CEloss = -torch.sum(y*torch.log(y_hat_softmax))\n",
        "print(CEloss)"
      ],
      "metadata": {
        "id": "NOfP0cFMVGyT",
        "outputId": "1756b996-e050-42bd-86f8-1c515d7d7b89",
        "colab": {
          "base_uri": "https://localhost:8080/"
        }
      },
      "execution_count": 2,
      "outputs": [
        {
          "output_type": "stream",
          "name": "stdout",
          "text": [
            "tensor([[0.2660, 0.0108, 0.7231]])\n",
            "tensor(1.3242)\n"
          ]
        }
      ]
    },
    {
      "cell_type": "code",
      "source": [
        "y = torch.tensor([[1.,0,0]])\n",
        "y_hat = torch.tensor([[2,-1.2,3]])\n",
        "\n",
        "# Softmax\n",
        "y_hat_softmax = y_hat.softmax(dim=1)\n",
        "print(y_hat_softmax)\n",
        "\n",
        "# Cross Entropy Loss\n",
        "CEloss = nn.CrossEntropyLoss()\n",
        "print(CEloss(y_hat_softmax, torch.argmax(y, dim=1)))\n",
        "print(CEloss(y_hat, y))\n",
        "print(CEloss(y_hat, torch.argmax(y, dim=1)))"
      ],
      "metadata": {
        "id": "2bC8eJWoVG2s",
        "outputId": "180d8fe8-9fc0-4493-fe66-01f3d34d838d",
        "colab": {
          "base_uri": "https://localhost:8080/"
        }
      },
      "execution_count": 3,
      "outputs": [
        {
          "output_type": "stream",
          "name": "stdout",
          "text": [
            "tensor([[0.2660, 0.0108, 0.7231]])\n",
            "tensor(1.2102)\n",
            "tensor(1.3242)\n",
            "tensor(1.3242)\n"
          ]
        }
      ]
    },
    {
      "cell_type": "markdown",
      "metadata": {
        "id": "hM2NHN8bVBV5"
      },
      "source": [
        "### ECG데이터 가져오기"
      ]
    },
    {
      "cell_type": "code",
      "execution_count": null,
      "metadata": {
        "id": "eWaoDfgzVBV5",
        "outputId": "70d5b366-3eab-4f19-83f1-afcb721ca20d"
      },
      "outputs": [
        {
          "data": {
            "text/html": [
              "<div>\n",
              "<style scoped>\n",
              "    .dataframe tbody tr th:only-of-type {\n",
              "        vertical-align: middle;\n",
              "    }\n",
              "\n",
              "    .dataframe tbody tr th {\n",
              "        vertical-align: top;\n",
              "    }\n",
              "\n",
              "    .dataframe thead th {\n",
              "        text-align: right;\n",
              "    }\n",
              "</style>\n",
              "<table border=\"1\" class=\"dataframe\">\n",
              "  <thead>\n",
              "    <tr style=\"text-align: right;\">\n",
              "      <th></th>\n",
              "      <th>0</th>\n",
              "      <th>1</th>\n",
              "    </tr>\n",
              "  </thead>\n",
              "  <tbody>\n",
              "    <tr>\n",
              "      <th>0</th>\n",
              "      <td>A00001</td>\n",
              "      <td>N</td>\n",
              "    </tr>\n",
              "    <tr>\n",
              "      <th>1</th>\n",
              "      <td>A00002</td>\n",
              "      <td>N</td>\n",
              "    </tr>\n",
              "    <tr>\n",
              "      <th>2</th>\n",
              "      <td>A00003</td>\n",
              "      <td>N</td>\n",
              "    </tr>\n",
              "  </tbody>\n",
              "</table>\n",
              "</div>"
            ],
            "text/plain": [
              "        0  1\n",
              "0  A00001  N\n",
              "1  A00002  N\n",
              "2  A00003  N"
            ]
          },
          "execution_count": 102,
          "metadata": {},
          "output_type": "execute_result"
        }
      ],
      "source": [
        "dpath = 'training2017'\n",
        "d = pd.read_csv(os.path.join(dpath,'REFERENCE.csv'),header=None)\n",
        "d[:3]"
      ]
    },
    {
      "cell_type": "code",
      "execution_count": null,
      "metadata": {
        "id": "RVyrreWzVBV6",
        "outputId": "5bd0ac8f-6db0-435e-ed56-5270466901ad"
      },
      "outputs": [
        {
          "data": {
            "text/plain": [
              "(5050, 738)"
            ]
          },
          "execution_count": 128,
          "metadata": {},
          "output_type": "execute_result"
        }
      ],
      "source": [
        "Nlist = d[d[1]=='N']\n",
        "Alist = d[d[1]=='A']\n",
        "len(Nlist),len(Alist)"
      ]
    },
    {
      "cell_type": "code",
      "execution_count": null,
      "metadata": {
        "id": "zUDPM7keVBV6"
      },
      "outputs": [],
      "source": [
        "Ntr = 512\n",
        "Nvd = 128\n",
        "Nlist_vd = Nlist[-Nvd:]\n",
        "Alist_vd = Alist[-Nvd:]\n",
        "Nlist = Nlist[:Ntr]\n",
        "Alist = Alist[:Ntr]"
      ]
    },
    {
      "cell_type": "code",
      "execution_count": null,
      "metadata": {
        "id": "WC89UZpKVBV6"
      },
      "outputs": [],
      "source": [
        "def data_iter(batch_size, dpath, Nlist, Alist, L):\n",
        "    num_examplesN = len(Nlist)\n",
        "    num_examplesA = len(Alist)\n",
        "    indicesN = list(range(num_examplesN))\n",
        "    indicesA = list(range(num_examplesA))\n",
        "    # The examples are read at random, in no particular order\n",
        "    random.shuffle(indicesN)\n",
        "    batch_size2 = int(batch_size/2)\n",
        "    for i in range(0, num_examplesN, batch_size):\n",
        "        batch_indicesN = indicesN[i:min(i+batch_size2, num_examplesN)]\n",
        "        random.shuffle(indicesA)\n",
        "        features = torch.zeros((batch_size,L))\n",
        "        labels = torch.zeros((batch_size,))\n",
        "        for bi in range(0, len(batch_indicesN)):\n",
        "            sign = sio.loadmat(os.path.join(dpath,Nlist.iloc[batch_indicesN[bi],0]+'.mat'))\n",
        "            siga = sio.loadmat(os.path.join(dpath,Alist.iloc[indicesA[bi],0]+'.mat'))\n",
        "            sign = sign['val']\n",
        "            siga = siga['val']\n",
        "            r1 = random.randint(0,len(sign[0,:])-L)\n",
        "            r2 = random.randint(0,len(siga[0,:])-L)\n",
        "            features[2*bi,:] = torch.tensor(sign[0,r1:r1+L])\n",
        "            features[2*bi+1,:] = torch.tensor(siga[0,r2:r2+L])\n",
        "            labels[2*bi] = 0\n",
        "            labels[2*bi+1] = 1\n",
        "\n",
        "        yield 0.001*features, labels"
      ]
    },
    {
      "cell_type": "code",
      "execution_count": null,
      "metadata": {
        "id": "KbFU8YOYVBV6",
        "outputId": "4f27013a-5123-4866-8860-4bbcbfb8f4bb"
      },
      "outputs": [
        {
          "name": "stdout",
          "output_type": "stream",
          "text": [
            "torch.Size([2, 1024])\n",
            "torch.Size([2])\n"
          ]
        },
        {
          "data": {
            "image/png": "[encoded data removed]",
            "text/plain": [
              "<Figure size 432x288 with 1 Axes>"
            ]
          },
          "metadata": {
            "needs_background": "light"
          },
          "output_type": "display_data"
        },
        {
          "data": {
            "image/png": "[encoded data removed]",
            "text/plain": [
              "<Figure size 432x288 with 1 Axes>"
            ]
          },
          "metadata": {
            "needs_background": "light"
          },
          "output_type": "display_data"
        }
      ],
      "source": [
        "L = 1024\n",
        "i = 0\n",
        "for X_tr, y_tr in data_iter(2,dpath,Nlist,Alist,L):\n",
        "    print(X_tr.shape)\n",
        "    print(y_tr.shape)\n",
        "    i=i+1\n",
        "    for n in range(2):\n",
        "        plt.plot(X_tr[n])\n",
        "        plt.title(y_tr[n])\n",
        "        plt.xlabel('samples')\n",
        "        plt.show()\n",
        "    break"
      ]
    },
    {
      "cell_type": "markdown",
      "metadata": {
        "id": "BqgZAcDrVBV6"
      },
      "source": [
        "### Hyperparameter설정"
      ]
    },
    {
      "cell_type": "code",
      "execution_count": null,
      "metadata": {
        "id": "Xjdh19qfVBV6"
      },
      "outputs": [],
      "source": [
        "L = 1024\n",
        "batch_size = 32\n",
        "lr = 0.02\n",
        "num_epochs = 1000"
      ]
    },
    {
      "cell_type": "markdown",
      "metadata": {
        "id": "4a8jsXJOVBV6"
      },
      "source": [
        "### Model, loss function, algorithm"
      ]
    },
    {
      "cell_type": "code",
      "execution_count": null,
      "metadata": {
        "id": "_lF-9172VBV6"
      },
      "outputs": [],
      "source": [
        "net = nn.Sequential(nn.Linear(L, L*2),nn.Dropout(p=0),nn.ReLU(),nn.Linear(L*2,2))\n",
        "loss = nn.CrossEntropyLoss(reduction='mean')\n",
        "alg = torch.optim.SGD(net.parameters(),lr, weight_decay=0)"
      ]
    },
    {
      "cell_type": "markdown",
      "metadata": {
        "id": "IjnmMP2JVBV6"
      },
      "source": [
        "### Model 학습"
      ]
    },
    {
      "cell_type": "code",
      "execution_count": null,
      "metadata": {
        "id": "YE0UzTCIVBV6",
        "outputId": "063f95a3-2f19-4efc-a7c1-4b4078354985"
      },
      "outputs": [
        {
          "name": "stdout",
          "output_type": "stream",
          "text": [
            "epoch #0,train loss: 0.599474310874939\n",
            "accuracy of train set: 70.703125 %\n",
            "accuracy of valid set: 67.1875 %\n",
            "epoch #100,train loss: 0.5633742809295654\n",
            "accuracy of train set: 73.2421875 %\n",
            "accuracy of valid set: 62.5 %\n",
            "epoch #200,train loss: 0.5711380243301392\n",
            "accuracy of train set: 71.09375 %\n",
            "accuracy of valid set: 69.53125 %\n",
            "epoch #300,train loss: 0.5867341756820679\n",
            "accuracy of train set: 69.7265625 %\n",
            "accuracy of valid set: 61.71875 %\n",
            "epoch #400,train loss: 0.5872047543525696\n",
            "accuracy of train set: 69.921875 %\n",
            "accuracy of valid set: 64.0625 %\n",
            "epoch #500,train loss: 0.5752052068710327\n",
            "accuracy of train set: 71.484375 %\n",
            "accuracy of valid set: 66.40625 %\n",
            "epoch #600,train loss: 0.61738121509552\n",
            "accuracy of train set: 68.359375 %\n",
            "accuracy of valid set: 71.875 %\n",
            "epoch #700,train loss: 0.5955648422241211\n",
            "accuracy of train set: 69.53125 %\n",
            "accuracy of valid set: 64.0625 %\n",
            "epoch #800,train loss: 0.5493109226226807\n",
            "accuracy of train set: 73.046875 %\n",
            "accuracy of valid set: 66.40625 %\n",
            "epoch #900,train loss: 0.5545610189437866\n",
            "accuracy of train set: 74.8046875 %\n",
            "accuracy of valid set: 71.875 %\n"
          ]
        },
        {
          "data": {
            "image/png": "[encoded data removed]",
            "text/plain": [
              "<Figure size 432x288 with 1 Axes>"
            ]
          },
          "metadata": {
            "needs_background": "light"
          },
          "output_type": "display_data"
        }
      ],
      "source": [
        "epoch_tr_accuracy = []\n",
        "epoch_vd_accuracy = []\n",
        "eval_interval = 100\n",
        "for epoch in range(num_epochs):\n",
        "    l_train = []\n",
        "    i = 0\n",
        "    Ncorrect=0\n",
        "    N=0\n",
        "    for X_tr, y_tr in data_iter(batch_size,dpath,Nlist,Alist,L):\n",
        "        y_tr_pred = net(X_tr)\n",
        "        l = loss(y_tr_pred, y_tr.type(torch.LongTensor))\n",
        "        l_train.append(l.sum().detach().numpy())\n",
        "        l.backward()\n",
        "        alg.step()\n",
        "        alg.zero_grad()\n",
        "        Ncorrect += torch.sum(y_tr==torch.argmax(y_tr_pred.softmax(1),dim=1)).numpy()\n",
        "        N += len(X_tr)\n",
        "        i=i+1\n",
        "    if epoch%eval_interval==0:\n",
        "        print(f'epoch #{epoch},train loss: {np.sum(l_train)/i}')\n",
        "        tr_accuracy = 100*Ncorrect/(N)\n",
        "        print(f'accuracy of train set: {tr_accuracy} %')\n",
        "\n",
        "#        print(f'weights: {net[0].weight[0][:4]}, ...')\n",
        "        for X_vd, y_vd in data_iter(Nvd,dpath,Nlist_vd,Alist_vd,L):\n",
        "            y_vd_pred = net(X_vd)\n",
        "            vd_accuracy = 100*torch.sum(y_vd==torch.argmax(y_vd_pred.softmax(1),dim=1))/Nvd\n",
        "            print(f'accuracy of valid set: {vd_accuracy} %')\n",
        "        epoch_tr_accuracy.append(tr_accuracy)\n",
        "        epoch_vd_accuracy.append(vd_accuracy)\n",
        "\n",
        "x = np.arange(0,num_epochs,eval_interval)\n",
        "plt.plot(x,epoch_tr_accuracy)\n",
        "plt.plot(x,epoch_vd_accuracy)\n",
        "plt.legend(['train set','valid set'])\n",
        "plt.xlabel('epoch')\n",
        "plt.ylabel('accuracy')\n",
        "plt.show()"
      ]
    },
    {
      "cell_type": "code",
      "execution_count": null,
      "metadata": {
        "id": "ydVZp1qRVBV6",
        "outputId": "e627eb98-c123-477f-8c5b-954b58184d27"
      },
      "outputs": [
        {
          "data": {
            "image/png": "[encoded data removed]",
            "text/plain": [
              "<Figure size 432x288 with 1 Axes>"
            ]
          },
          "metadata": {
            "needs_background": "light"
          },
          "output_type": "display_data"
        }
      ],
      "source": [
        "plt.plot(x,epoch_tr_accuracy)\n",
        "plt.plot(x,epoch_vd_accuracy)\n",
        "plt.legend(['train set','valid set'])\n",
        "plt.xlabel('epoch')\n",
        "plt.ylabel('accuracy')\n",
        "plt.show()"
      ]
    },
    {
      "cell_type": "code",
      "execution_count": null,
      "metadata": {
        "id": "ZEszkrPuVBV7"
      },
      "outputs": [],
      "source": [
        "net = nn.Sequential(nn.Linear(L, L*2),nn.Dropout(p=0.25),nn.ReLU(),nn.Linear(L*2,2))\n",
        "loss = nn.CrossEntropyLoss(reduction='mean')\n",
        "alg = torch.optim.SGD(net.parameters(),lr, weight_decay=0.01)"
      ]
    },
    {
      "cell_type": "code",
      "execution_count": null,
      "metadata": {
        "id": "1Or140iXVBV7"
      },
      "outputs": [],
      "source": [
        "epoch_tr_accuracy = []\n",
        "epoch_vd_accuracy = []\n",
        "eval_interval = 100\n",
        "for epoch in range(num_epochs):\n",
        "    l_train = []\n",
        "    i = 0\n",
        "    Ncorrect=0\n",
        "    N=0\n",
        "    for X_tr, y_tr in data_iter(batch_size,dpath,Nlist,Alist,L):\n",
        "        y_tr_pred = net(X_tr)\n",
        "        l = loss(y_tr_pred, y_tr.type(torch.LongTensor))\n",
        "        l_train.append(l.sum().detach().numpy())\n",
        "        l.backward()\n",
        "        alg.step()\n",
        "        alg.zero_grad()\n",
        "        Ncorrect += torch.sum(y_tr==torch.argmax(y_tr_pred.softmax(1),dim=1)).numpy()\n",
        "        N += len(X_tr)\n",
        "        i=i+1\n",
        "    if epoch%eval_interval==0:\n",
        "        print(f'epoch #{epoch},train loss: {np.sum(l_train)/i}')\n",
        "        tr_accuracy = 100*Ncorrect/(N)\n",
        "        print(f'accuracy of train set: {tr_accuracy} %')\n",
        "\n",
        "#        print(f'weights: {net[0].weight[0][:4]}, ...')\n",
        "        for X_vd, y_vd in data_iter(Nvd,dpath,Nlist_vd,Alist_vd,L):\n",
        "            y_vd_pred = net(X_vd)\n",
        "            vd_accuracy = 100*torch.sum(y_vd==torch.argmax(y_vd_pred.softmax(1),dim=1))/Nvd\n",
        "            print(f'accuracy of valid set: {vd_accuracy} %')\n",
        "        epoch_tr_accuracy.append(tr_accuracy)\n",
        "        epoch_vd_accuracy.append(vd_accuracy)\n",
        "\n",
        "x = np.arange(0,num_epochs,eval_interval)\n",
        "plt.plot(x,epoch_tr_accuracy)\n",
        "plt.plot(x,epoch_vd_accuracy)\n",
        "plt.legend(['train set','valid set'])\n",
        "plt.xlabel('epoch')\n",
        "plt.ylabel('accuracy')\n",
        "plt.show()"
      ]
    }
  ],
  "metadata": {
    "interpreter": {
      "hash": "e1315e6714f2518a6216a6eec3b047587d10875bf19b853b35d3e5c84c569e2a"
    },
    "kernelspec": {
      "display_name": "Python 3",
      "name": "python3"
    },
    "language_info": {
      "codemirror_mode": {
        "name": "ipython",
        "version": 3
      },
      "file_extension": ".py",
      "mimetype": "text/x-python",
      "name": "python",
      "nbconvert_exporter": "python",
      "pygments_lexer": "ipython3",
      "version": "3.8.12"
    },
    "orig_nbformat": 4,
    "colab": {
      "provenance": [],
      "gpuType": "T4",
      "include_colab_link": true
    },
    "accelerator": "GPU"
  },
  "nbformat": 4,
  "nbformat_minor": 0
}