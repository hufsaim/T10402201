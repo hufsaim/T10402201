{
  "cells": [
    {
      "cell_type": "markdown",
      "metadata": {
        "colab_type": "text",
        "id": "m3jPZ5uhBuKu"
      },
      "source": [
        "## Linear Regression Model\n",
        "\n",
        "- 이번 실습는 linear regression model을 직접 구현하여 mini-batch stochastic gradient descent 방법을 이용해서 model을 학습시켜보겠습니다.\n"
      ]
    },
    {
      "cell_type": "code",
      "execution_count": 1,
      "metadata": {
        "colab": {},
        "colab_type": "code",
        "id": "OdKcgl3138T3"
      },
      "outputs": [],
      "source": [
        "import torch\n",
        "import numpy as np\n",
        "import random\n",
        "import matplotlib.pyplot as plt"
      ]
    },
    {
      "cell_type": "markdown",
      "metadata": {},
      "source": [
        "### Numpy & PyTorch\n",
        "- y = Xw + b 연산을 numpy와 pytorch에서 각각 계산해보고 유사성을 확인합니다."
      ]
    },
    {
      "cell_type": "code",
      "execution_count": 2,
      "metadata": {},
      "outputs": [
        {
          "name": "stdout",
          "output_type": "stream",
          "text": [
            "X: [[1. 0. 0.]\n",
            " [0. 2. 0.]]\n",
            "w: [2. 4. 8.]\n",
            "b: [1.]\n",
            "y: [3. 9.]\n"
          ]
        }
      ],
      "source": [
        "# numpy \n",
        "\n",
        "x1 = np.array([1.,0,0])\n",
        "x2 = np.array([0,2.0,0])\n",
        "\n",
        "X = np.zeros((2,3))\n",
        "X[0,:] = x1\n",
        "X[1,:] = x2\n",
        "\n",
        "w = np.array([2.,4,8])\n",
        "b = np.array([1.])\n",
        "\n",
        "y = np.matmul(X,w)+b \n",
        "\n",
        "print('X:',X)\n",
        "print('w:',w)\n",
        "print('b:',b)\n",
        "print('y:',y)"
      ]
    },
    {
      "cell_type": "code",
      "execution_count": 3,
      "metadata": {},
      "outputs": [
        {
          "name": "stdout",
          "output_type": "stream",
          "text": [
            "X: tensor([[1., 0., 0.],\n",
            "        [0., 2., 0.]])\n",
            "w: tensor([2., 4., 8.])\n",
            "b: tensor(1.)\n",
            "y: tensor([3., 9.])\n"
          ]
        }
      ],
      "source": [
        "# pytorch\n",
        "\n",
        "x1 = torch.tensor([1.,0,0])\n",
        "x2 = torch.tensor([0,2.,0])\n",
        "\n",
        "X = torch.zeros((2,3))\n",
        "X[0,:] = x1\n",
        "X[1,:] = x2\n",
        "\n",
        "w = torch.tensor([2.,4.,8.])\n",
        "b = torch.tensor(1.)\n",
        "\n",
        "y = torch.matmul(X,w) + b\n",
        "\n",
        "print('X:',X)\n",
        "print('w:',w)\n",
        "print('b:',b)\n",
        "print('y:',y)\n"
      ]
    },
    {
      "cell_type": "markdown",
      "metadata": {},
      "source": [
        "- numpy array와 pytorch tensor 사이의 연산을 확인합니다.\n",
        "- a+b는 안되는데 b+a는 되는 이유는 무엇일까요?"
      ]
    },
    {
      "cell_type": "code",
      "execution_count": 4,
      "metadata": {},
      "outputs": [
        {
          "ename": "TypeError",
          "evalue": "unsupported operand type(s) for *: 'numpy.ndarray' and 'Tensor'",
          "output_type": "error",
          "traceback": [
            "\u001b[0;31m---------------------------------------------------------------------------\u001b[0m",
            "\u001b[0;31mTypeError\u001b[0m                                 Traceback (most recent call last)",
            "\u001b[0;32m/var/folders/n7/jq4g2jg94p31535vqfnh88b40000gn/T/ipykernel_48315/2493820479.py\u001b[0m in \u001b[0;36m<module>\u001b[0;34m\u001b[0m\n\u001b[1;32m      4\u001b[0m \u001b[0;31m#print(a+b)\u001b[0m\u001b[0;34m\u001b[0m\u001b[0;34m\u001b[0m\u001b[0;34m\u001b[0m\u001b[0m\n\u001b[1;32m      5\u001b[0m \u001b[0;31m#print(a-b)\u001b[0m\u001b[0;34m\u001b[0m\u001b[0;34m\u001b[0m\u001b[0;34m\u001b[0m\u001b[0m\n\u001b[0;32m----> 6\u001b[0;31m \u001b[0mprint\u001b[0m\u001b[0;34m(\u001b[0m\u001b[0ma\u001b[0m\u001b[0;34m*\u001b[0m\u001b[0mb\u001b[0m\u001b[0;34m)\u001b[0m\u001b[0;34m\u001b[0m\u001b[0;34m\u001b[0m\u001b[0m\n\u001b[0m",
            "\u001b[0;31mTypeError\u001b[0m: unsupported operand type(s) for *: 'numpy.ndarray' and 'Tensor'"
          ]
        }
      ],
      "source": [
        "a = np.array([1,2,3.])\n",
        "b = torch.tensor([1,2,3.])\n",
        "\n",
        "#print(a+b)\n",
        "#print(a-b)\n",
        "print(a*b)"
      ]
    },
    {
      "cell_type": "code",
      "execution_count": 5,
      "metadata": {},
      "outputs": [
        {
          "name": "stdout",
          "output_type": "stream",
          "text": [
            "tensor([2., 4., 6.], dtype=torch.float64)\n",
            "tensor([0., 0., 0.], dtype=torch.float64)\n",
            "tensor([1., 4., 9.], dtype=torch.float64)\n"
          ]
        }
      ],
      "source": [
        "a = np.array([1,2,3.])\n",
        "b = torch.tensor([1,2,3.])\n",
        "\n",
        "print(b+a)\n",
        "print(b-a)\n",
        "print(b*a)"
      ]
    },
    {
      "cell_type": "markdown",
      "metadata": {},
      "source": [
        "### Defining Linear Regression Model\n",
        "- Matrix X는 각 row에 각각의 example이 가지고 있는 input feature들을 포함합니다.\n",
        "- vector w는 각각의 feature에 해당하는 weight입니다.\n",
        "- b는 bias로 모든 feature가 0일 때의 출력값입니다.\n",
        "- w와 b는 우리가 학습을 시켜야 되는 파라미터들이기 때문에 requires_grad = True 를 포함시켜야 합니다. \n",
        "- pytorch에서는 requires_grad = True인 tensor들에 대해 자동으로 gradient를 계산할 수 있습니다. "
      ]
    },
    {
      "cell_type": "code",
      "execution_count": 6,
      "metadata": {},
      "outputs": [],
      "source": [
        "# linear regression model y = Xw + b\n",
        "def linreg(X, w, b):\n",
        "    return torch.matmul(X,w) + b"
      ]
    },
    {
      "cell_type": "code",
      "execution_count": 7,
      "metadata": {
        "colab": {},
        "colab_type": "code",
        "id": "BipFylj83-5y"
      },
      "outputs": [
        {
          "name": "stdout",
          "output_type": "stream",
          "text": [
            "X: tensor([[1., 0., 0.],\n",
            "        [0., 1., 0.],\n",
            "        [0., 0., 1.]])\n",
            "w: tensor([[ 0.0123],\n",
            "        [ 0.0120],\n",
            "        [-0.0018]], requires_grad=True)\n",
            "b: tensor([0.], requires_grad=True)\n"
          ]
        }
      ],
      "source": [
        "X = torch.eye(3)\n",
        "w = torch.normal(0,0.01,size=(3,1),requires_grad = True)\n",
        "#w = torch.tensor([1.,1,1],requires_grad = True)\n",
        "b = torch.zeros(1,requires_grad = True)\n",
        "\n",
        "print(\"X:\",X)\n",
        "print(\"w:\",w)\n",
        "print(\"b:\",b)"
      ]
    },
    {
      "cell_type": "code",
      "execution_count": 8,
      "metadata": {},
      "outputs": [
        {
          "name": "stdout",
          "output_type": "stream",
          "text": [
            "y: tensor([[ 0.0123],\n",
            "        [ 0.0120],\n",
            "        [-0.0018]], grad_fn=<AddBackward0>)\n"
          ]
        }
      ],
      "source": [
        "y = linreg(X,w,b)\n",
        "print(\"y:\",y)"
      ]
    },
    {
      "cell_type": "markdown",
      "metadata": {},
      "source": [
        "### Defining Squared Loss\n",
        "- tensor의 연산에서 tensor의 shape를 맞추는 것은 매우 중요합니다.\n",
        "- tensor의 shape가 맞지 않는 경우 임의로 broadcasting이 진행되어, 의도하지 않은 결과를 얻을 수 있습니다."
      ]
    },
    {
      "cell_type": "code",
      "execution_count": 9,
      "metadata": {},
      "outputs": [
        {
          "name": "stdout",
          "output_type": "stream",
          "text": [
            "tensor([[1.1380, 4.2715, 9.4051],\n",
            "        [1.0535, 4.1063, 9.1591],\n",
            "        [0.6351, 3.2289, 7.8228]])\n"
          ]
        }
      ],
      "source": [
        "y_hat = torch.normal(0,0.1,size=(3,1))\n",
        "y = torch.tensor([1.,2,3])\n",
        "\n",
        "print((y-y_hat)**2)"
      ]
    },
    {
      "cell_type": "code",
      "execution_count": 10,
      "metadata": {},
      "outputs": [
        {
          "name": "stdout",
          "output_type": "stream",
          "text": [
            "tensor([[0.5872],\n",
            "        [2.1540],\n",
            "        [4.6670]])\n"
          ]
        }
      ],
      "source": [
        "y_hat = torch.normal(0,0.1,size=(3,1))\n",
        "y = torch.tensor([1.,2,3],)\n",
        "\n",
        "\n",
        "print( (y_hat-y.reshape(y_hat.shape))**2 /2)"
      ]
    },
    {
      "cell_type": "code",
      "execution_count": 11,
      "metadata": {},
      "outputs": [],
      "source": [
        "def squared_loss(y_hat, y):\n",
        "    return (y_hat - y.reshape(y_hat.shape))**2 / 2"
      ]
    },
    {
      "cell_type": "code",
      "execution_count": 12,
      "metadata": {},
      "outputs": [
        {
          "data": {
            "text/plain": [
              "tensor([[0.5872],\n",
              "        [2.1540],\n",
              "        [4.6670]])"
            ]
          },
          "execution_count": 12,
          "metadata": {},
          "output_type": "execute_result"
        }
      ],
      "source": [
        "squared_loss(y_hat,y)"
      ]
    },
    {
      "cell_type": "markdown",
      "metadata": {},
      "source": [
        "- 정의한 loss function을 이용하여 w, b에 대한 gradient를 계산합니다."
      ]
    },
    {
      "cell_type": "code",
      "execution_count": 13,
      "metadata": {},
      "outputs": [
        {
          "name": "stdout",
          "output_type": "stream",
          "text": [
            "# initial parameters\n",
            "tensor([1., 1., 1.], requires_grad=True) tensor([0.], requires_grad=True)\n",
            "# initial gradients: None\n",
            "None None\n",
            "# first prediction using initial parameters\n",
            "tensor([1., 1., 1.], grad_fn=<AddBackward0>)\n",
            "# calculated loss\n",
            "tensor(2.5000, grad_fn=<SumBackward0>)\n",
            "# calculated gradients using the loss\n",
            "tensor([ 0., -1., -2.]) tensor([-3.])\n"
          ]
        }
      ],
      "source": [
        "y = torch.tensor([1.,2,3]) # label (ground truth)\n",
        "X = torch.eye(3)\n",
        "w = torch.tensor([1.,1,1],requires_grad = True)\n",
        "b = torch.zeros(1,requires_grad = True)\n",
        "\n",
        "print('# initial parameters')\n",
        "print(w,b)\n",
        "print('# initial gradients: None')\n",
        "print(w.grad, b.grad)\n",
        "\n",
        "y_hat = linreg(X,w,b)\n",
        "print('# first prediction using initial parameters')\n",
        "print(y_hat)\n",
        "\n",
        "l = squared_loss(y_hat, y)\n",
        "l.sum().backward()\n",
        "print('# calculated loss')\n",
        "print(l.sum())\n",
        "\n",
        "print('# calculated gradients using the loss')\n",
        "print(w.grad, b.grad)\n"
      ]
    },
    {
      "cell_type": "markdown",
      "metadata": {},
      "source": [
        "- 계산된 gradients를 이용해 파라미터를 새로 업데이트 합니다.\n",
        "- 파라미터를 업데이트한 후에는 각각의 파라미터의 gradient를 다시 초기화 해주어야 합니다."
      ]
    },
    {
      "cell_type": "code",
      "execution_count": 14,
      "metadata": {},
      "outputs": [
        {
          "name": "stdout",
          "output_type": "stream",
          "text": [
            "[tensor([1., 1., 1.], requires_grad=True), tensor([0.], requires_grad=True)]\n",
            "[tensor([ 0., -1., -2.]), tensor([-3.])]\n",
            "[tensor([1.0000, 1.3333, 1.6667], requires_grad=True), tensor([1.], requires_grad=True)]\n",
            "[tensor([0., 0., 0.]), tensor([0.])]\n"
          ]
        }
      ],
      "source": [
        "lr = 1\n",
        "batch_size = 3\n",
        "print([w,b])\n",
        "print([w.grad,b.grad])\n",
        "with torch.no_grad():\n",
        "    w -= lr * w.grad/batch_size # w = w - lr*w.grad \n",
        "    b -= lr * b.grad/batch_size # b = b - lr*b.grad\n",
        "    w.grad.zero_()\n",
        "    b.grad.zero_()\n",
        "print([w,b])\n",
        "print([w.grad,b.grad])"
      ]
    },
    {
      "cell_type": "markdown",
      "metadata": {},
      "source": [
        "### Defining minibatch stochastic gradient descent"
      ]
    },
    {
      "cell_type": "code",
      "execution_count": 15,
      "metadata": {},
      "outputs": [],
      "source": [
        "def sgd(params, lr, batch_size):  \n",
        "    with torch.no_grad():\n",
        "        for param in params:\n",
        "            param -= lr * param.grad/batch_size\n",
        "            param.grad.zero_()"
      ]
    },
    {
      "cell_type": "markdown",
      "metadata": {},
      "source": [
        "- Linear regression model 학습을 위한 model architecture, loss function, optimization algorithm이 모두 준비가 되었습니다.\n",
        "- 3개의 example로 구성된 간단한 데이터를 이용해 학습을 진행하는 과정을 살펴 봅니다."
      ]
    },
    {
      "cell_type": "code",
      "execution_count": 16,
      "metadata": {},
      "outputs": [
        {
          "name": "stdout",
          "output_type": "stream",
          "text": [
            "# initial parameters\n",
            "tensor([1., 1., 1.], requires_grad=True) tensor([0.], requires_grad=True)\n",
            "\n",
            "\n",
            "## first prediction using initial parameters ##\n",
            "tensor([1., 1., 1.], grad_fn=<AddBackward0>)\n",
            "# updated parameters\n",
            "tensor([1.0000, 1.3333, 1.6667], requires_grad=True) tensor([1.], requires_grad=True)\n",
            "\n",
            "\n",
            "## second prediction using the updated parameters ##\n",
            "tensor([2.0000, 2.3333, 2.6667], grad_fn=<AddBackward0>)\n",
            "# updated parameters\n",
            "tensor([0.6667, 1.2222, 1.7778], requires_grad=True) tensor([0.6667], requires_grad=True)\n",
            "\n",
            "\n",
            "## third prediction using the updated parameters ##\n",
            "tensor([1.3333, 1.8889, 2.4444], grad_fn=<AddBackward0>)\n",
            "# updated parameters\n",
            "tensor([0.5556, 1.2593, 1.9630], requires_grad=True) tensor([0.7778], requires_grad=True)\n",
            "\n",
            "\n",
            "## fourth prediction using the updated parameters ##\n",
            "tensor([1.3333, 2.0370, 2.7407], grad_fn=<AddBackward0>)\n",
            "# updated parameters\n",
            "tensor([0.4444, 1.2469, 2.0494], requires_grad=True) tensor([0.7407], requires_grad=True)\n"
          ]
        }
      ],
      "source": [
        "lr = 1\n",
        "batch_size = 3\n",
        "\n",
        "y = torch.tensor([1.,2,3]) # label (ground truth)\n",
        "X = torch.eye(3)\n",
        "w = torch.tensor([1.,1,1],requires_grad = True)\n",
        "b = torch.zeros(1,requires_grad = True)\n",
        "\n",
        "print('# initial parameters')\n",
        "print(w,b)\n",
        "\n",
        "# 1st iteration\n",
        "y_hat = linreg(X,w,b)\n",
        "print('\\n')\n",
        "print('## first prediction using initial parameters ##')\n",
        "print(y_hat)\n",
        "\n",
        "l = squared_loss(y_hat, y)\n",
        "l.sum().backward()\n",
        "sgd([w,b],lr,batch_size)\n",
        "print('# updated parameters')\n",
        "print(w, b)\n",
        "\n",
        "# 2nd iteration\n",
        "y_hat = linreg(X,w,b)\n",
        "print('\\n')\n",
        "print('## second prediction using the updated parameters ##')\n",
        "print(y_hat)\n",
        "\n",
        "l = squared_loss(y_hat, y)\n",
        "l.sum().backward()\n",
        "sgd([w,b],lr,batch_size)\n",
        "print('# updated parameters')\n",
        "print(w, b)\n",
        "\n",
        "\n",
        "# 3rd iteration\n",
        "y_hat = linreg(X,w,b)\n",
        "print('\\n')\n",
        "print('## third prediction using the updated parameters ##')\n",
        "print(y_hat)\n",
        "\n",
        "l = squared_loss(y_hat, y)\n",
        "l.sum().backward()\n",
        "sgd([w,b],lr,batch_size)\n",
        "print('# updated parameters')\n",
        "print(w, b)\n",
        "\n",
        "\n",
        "# 4th iteration\n",
        "y_hat = linreg(X,w,b)\n",
        "print('\\n')\n",
        "print('## fourth prediction using the updated parameters ##')\n",
        "print(y_hat)\n",
        "\n",
        "l = squared_loss(y_hat, y)\n",
        "l.sum().backward()\n",
        "sgd([w,b],lr,batch_size)\n",
        "print('# updated parameters')\n",
        "print(w, b)\n"
      ]
    },
    {
      "cell_type": "markdown",
      "metadata": {},
      "source": [
        "### Generating Synthetic Data & Defining Data Loader\n",
        "- 실제로 linear 관계를 가지는 input feature와 label을 시뮬레이션을 통해 생성합니다.\n",
        "- 현실적인 상황에 좀 더 가깝도록 data에 노이즈를 추가하여 봅니다.\n",
        "- minibatch size를 기반으로 랜덤으로 데이터를 추출하여 가져올 수 있는 data loader를 정의합니다."
      ]
    },
    {
      "cell_type": "code",
      "execution_count": 17,
      "metadata": {},
      "outputs": [],
      "source": [
        "X = torch.normal(0,2,(1000,2))\n",
        "y = torch.matmul(X,torch.tensor([3.,4]))+5 # y = 3x1 + 4x2 + 5\n",
        "y += torch.normal(0,0.01,y.shape)"
      ]
    },
    {
      "cell_type": "code",
      "execution_count": 18,
      "metadata": {},
      "outputs": [
        {
          "data": {
            "image/png": "[encoded data removed]",
            "text/plain": [
              "<Figure size 432x288 with 2 Axes>"
            ]
          },
          "metadata": {
            "needs_background": "light"
          },
          "output_type": "display_data"
        }
      ],
      "source": [
        "plt.subplot(121)\n",
        "plt.scatter(X[:,0],y)\n",
        "plt.xlabel('first feature')\n",
        "plt.ylabel('target')\n",
        "plt.subplot(122)\n",
        "plt.scatter(X[:,1],y)\n",
        "plt.xlabel('second feature')\n",
        "plt.ylabel('target')\n",
        "plt.tight_layout()\n",
        "plt.show()"
      ]
    },
    {
      "cell_type": "code",
      "execution_count": 19,
      "metadata": {},
      "outputs": [],
      "source": [
        "def data_iter(batch_size, features, labels):\n",
        "    num_examples = len(features)\n",
        "    indices = list(range(num_examples))\n",
        "    # The examples are read at random, in no particular order\n",
        "    random.shuffle(indices)\n",
        "    for i in range(0, num_examples, batch_size):\n",
        "        batch_indices = torch.tensor(indices[i:min(i +\n",
        "                                                   batch_size, num_examples)])\n",
        "        yield features[batch_indices], labels[batch_indices]"
      ]
    },
    {
      "cell_type": "code",
      "execution_count": 20,
      "metadata": {},
      "outputs": [
        {
          "name": "stdout",
          "output_type": "stream",
          "text": [
            "torch.Size([4, 2])\n",
            "torch.Size([4])\n"
          ]
        }
      ],
      "source": [
        "batch_size=4\n",
        "for X_tr, y_tr in data_iter(batch_size,X,y):\n",
        "    print(X_tr.shape)\n",
        "    print(y_tr.shape)\n",
        "    break"
      ]
    },
    {
      "cell_type": "markdown",
      "metadata": {},
      "source": [
        "### Train a Model\n",
        "- 모델의 파라미터 w, b 를 모두 0으로 초기화하고, 하이퍼파라미터들(num_epochs, batch_size, learning rate)을 정해 줍니다.\n",
        "- 미리 정의한 network architecture, loss function을 가져오고 학습을 진행해 봅니다."
      ]
    },
    {
      "cell_type": "code",
      "execution_count": 21,
      "metadata": {},
      "outputs": [],
      "source": [
        "w = torch.tensor([0.,0.],requires_grad = True)\n",
        "b = torch.zeros(1,requires_grad = True)\n",
        "num_epochs = 3\n",
        "batch_size = 16\n",
        "lr = 0.1\n",
        "net = linreg\n",
        "loss = squared_loss"
      ]
    },
    {
      "cell_type": "markdown",
      "metadata": {},
      "source": [
        "w = torch.tensor([1.,1.],requires_grad = True)\n",
        "b = torch.zeros(1.,requires_grad = True)"
      ]
    },
    {
      "cell_type": "code",
      "execution_count": 22,
      "metadata": {},
      "outputs": [
        {
          "name": "stdout",
          "output_type": "stream",
          "text": [
            "epoch 1, loss 0.000071\n",
            "epoch 2, loss 0.000053\n",
            "epoch 3, loss 0.000052\n"
          ]
        }
      ],
      "source": [
        "\n",
        "for epoch in range(num_epochs):\n",
        "    for X_tr, y_tr in data_iter(batch_size, X, y):\n",
        "        l = loss(net(X_tr, w, b), y_tr)  # Minibatch loss in `X_tr` and `y_tr`\n",
        "        # Compute gradient on `l` with respect to [`w`, `b`]\n",
        "        l.sum().backward()\n",
        "        sgd([w, b], lr, batch_size)  # Update parameters using their gradient\n",
        "    with torch.no_grad():\n",
        "        train_l = loss(net(X, w, b), y)\n",
        "        print(f'epoch {epoch + 1}, loss {float(train_l.mean()):f}')\n"
      ]
    },
    {
      "cell_type": "markdown",
      "metadata": {},
      "source": [
        "- 학습된 모델의 파라미터가 우리가 만든 데이터의 w1=3, w2=4, b=5와 맞는 지 확인해 봅시다."
      ]
    },
    {
      "cell_type": "code",
      "execution_count": 23,
      "metadata": {},
      "outputs": [
        {
          "name": "stdout",
          "output_type": "stream",
          "text": [
            "tensor(2.9999, grad_fn=<SelectBackward0>) tensor(4.0002, grad_fn=<SelectBackward0>) tensor([5.0000], requires_grad=True)\n"
          ]
        }
      ],
      "source": [
        "print(w[0],w[1],b)"
      ]
    }
  ],
  "metadata": {
    "colab": {
      "collapsed_sections": [],
      "name": "ch03_LinearRegression.ipynb",
      "provenance": []
    },
    "kernelspec": {
      "display_name": "Python 3",
      "language": "python",
      "name": "python3"
    },
    "language_info": {
      "codemirror_mode": {
        "name": "ipython",
        "version": 3
      },
      "file_extension": ".py",
      "mimetype": "text/x-python",
      "name": "python",
      "nbconvert_exporter": "python",
      "pygments_lexer": "ipython3",
      "version": "3.8.12"
    }
  },
  "nbformat": 4,
  "nbformat_minor": 0
}
