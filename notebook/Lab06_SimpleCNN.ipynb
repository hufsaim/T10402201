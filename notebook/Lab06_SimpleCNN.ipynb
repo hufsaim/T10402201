{
  "nbformat": 4,
  "nbformat_minor": 0,
  "metadata": {
    "colab": {
      "provenance": [],
      "gpuType": "T4",
      "mount_file_id": "1cWGUNR-nCVm30wrjaiqqCnly3559OmQI",
      "authorship_tag": "ABX9TyNUzp9cSQbeE6Re2p5jh+DI",
      "include_colab_link": true
    },
    "kernelspec": {
      "name": "python3",
      "display_name": "Python 3"
    },
    "language_info": {
      "name": "python"
    },
    "accelerator": "GPU",
    "gpuClass": "standard"
  },
  "cells": [
    {
      "cell_type": "markdown",
      "metadata": {
        "id": "view-in-github",
        "colab_type": "text"
      },
      "source": [
        "<a href=\"https://colab.research.google.com/github/hufsaim/T10402201/blob/master/notebook/Lab06_SimpleCNN.ipynb\" target=\"_parent\"><img src=\"https://colab.research.google.com/assets/colab-badge.svg\" alt=\"Open In Colab\"/></a>"
      ]
    },
    {
      "cell_type": "code",
      "execution_count": 2,
      "metadata": {
        "id": "ln1P8MGQhfk8"
      },
      "outputs": [],
      "source": [
        "import torch\n",
        "import torch.nn as nn\n",
        "import torch.optim as optim\n",
        "import torchvision\n",
        "import torchvision.transforms as transforms\n",
        "import matplotlib.pyplot as plt\n",
        "import numpy as np\n",
        "from sklearn.metrics import (\n",
        "    classification_report, confusion_matrix,\n",
        "    ConfusionMatrixDisplay\n",
        ")"
      ]
    },
    {
      "cell_type": "code",
      "source": [
        "!unzip covid19.zip"
      ],
      "metadata": {
        "id": "GWVs4iIoOOyj"
      },
      "execution_count": null,
      "outputs": []
    },
    {
      "cell_type": "code",
      "source": [
        "device = torch.device(\"cuda:0\" if torch.cuda.is_available() else \"cpu\")\n",
        "# Assuming that we are on a CUDA machine, this should print a CUDA device:\n",
        "print(device)"
      ],
      "metadata": {
        "colab": {
          "base_uri": "https://localhost:8080/"
        },
        "id": "Qf4tZfnrhtnd",
        "outputId": "3793207d-3f1e-4e8f-cf67-282a0c834491"
      },
      "execution_count": 4,
      "outputs": [
        {
          "output_type": "stream",
          "name": "stdout",
          "text": [
            "cuda:0\n"
          ]
        }
      ]
    },
    {
      "cell_type": "code",
      "source": [
        "path_train = 'covid19/train/'\n",
        "path_valid = 'covid19/valid/'"
      ],
      "metadata": {
        "id": "iqJiCdVRhvB5"
      },
      "execution_count": 5,
      "outputs": []
    },
    {
      "cell_type": "markdown",
      "source": [
        "## 영상데이터에 대한 전처리과정 정의하기"
      ],
      "metadata": {
        "id": "qDbPpEkipMN1"
      }
    },
    {
      "cell_type": "code",
      "source": [
        "train_transforms = transforms.Compose(\n",
        "      [\n",
        "          transforms.Grayscale(num_output_channels=1),\n",
        "          transforms.Resize((64,64)),\n",
        "          transforms.ToTensor(),\n",
        "      ]\n",
        "    )"
      ],
      "metadata": {
        "id": "-q1tk8EFhwiP"
      },
      "execution_count": 6,
      "outputs": []
    },
    {
      "cell_type": "markdown",
      "source": [
        "## ImageFolder를 활용하여 data loader를 생성하기"
      ],
      "metadata": {
        "id": "TjuefJMopQfo"
      }
    },
    {
      "cell_type": "code",
      "source": [
        "batch_size = 32\n",
        "\n",
        "trainset = torchvision.datasets.ImageFolder(root = path_train,transform=train_transforms)\n",
        "validset = torchvision.datasets.ImageFolder(root = path_valid,transform=train_transforms)\n",
        "\n",
        "trainloader = torch.utils.data.DataLoader(trainset,batch_size=batch_size,shuffle=True)\n",
        "validloader = torch.utils.data.DataLoader(validset,batch_size=batch_size,shuffle=False)"
      ],
      "metadata": {
        "id": "-L9UIjoOhyuK"
      },
      "execution_count": 7,
      "outputs": []
    },
    {
      "cell_type": "code",
      "source": [
        "tgtnames = trainset.classes\n",
        "print(tgtnames)"
      ],
      "metadata": {
        "colab": {
          "base_uri": "https://localhost:8080/"
        },
        "id": "UQSA0qZaiNQe",
        "outputId": "60f54090-838b-4883-afa8-76b4049024ec"
      },
      "execution_count": 8,
      "outputs": [
        {
          "output_type": "stream",
          "name": "stdout",
          "text": [
            "['covid19', 'normal', 'opacity']\n"
          ]
        }
      ]
    },
    {
      "cell_type": "code",
      "source": [
        "print(len(trainset),len(validset))"
      ],
      "metadata": {
        "colab": {
          "base_uri": "https://localhost:8080/"
        },
        "id": "mFJvMEml0u-7",
        "outputId": "8c693821-33e1-43ea-a9bb-2add8d2d1c4d"
      },
      "execution_count": 9,
      "outputs": [
        {
          "output_type": "stream",
          "name": "stdout",
          "text": [
            "1200 300\n"
          ]
        }
      ]
    },
    {
      "cell_type": "code",
      "source": [
        "for X, y in trainloader:\n",
        "  print(X.shape)\n",
        "  print(y.shape)\n",
        "  I = X[0][0].numpy()\n",
        "  plt.figure(dpi=128)\n",
        "  plt.imshow(I,cmap='gray')\n",
        "  plt.title(tgtnames[y[0]])\n",
        "  plt.show()\n",
        "  break"
      ],
      "metadata": {
        "colab": {
          "base_uri": "https://localhost:8080/",
          "height": 608
        },
        "id": "U_p89VZhidlg",
        "outputId": "772dff46-dc5d-4ea6-8359-42ab0ca9d455"
      },
      "execution_count": 11,
      "outputs": [
        {
          "output_type": "stream",
          "name": "stdout",
          "text": [
            "torch.Size([32, 1, 64, 64])\n",
            "torch.Size([32])\n"
          ]
        },
        {
          "output_type": "display_data",
          "data": {
            "text/plain": [
              "<Figure size 819.2x614.4 with 1 Axes>"
            ],
            "image/png": "[encoded data removed]"
          },
          "metadata": {}
        }
      ]
    },
    {
      "cell_type": "markdown",
      "source": [
        "## CNN model을 정의해보기"
      ],
      "metadata": {
        "id": "tIDc6XSalIm8"
      }
    },
    {
      "cell_type": "code",
      "source": [
        "mycnn = torch.nn.Sequential(\n",
        "    nn.Conv2d(in_channels=1, out_channels=6, kernel_size=3, padding=1),\n",
        "    nn.ReLU(),\n",
        "    nn.AvgPool2d(kernel_size=2, stride=2),\n",
        "    nn.Flatten(),\n",
        "    nn.Linear(in_features=6*32*32, out_features=120),\n",
        "    nn.ReLU(),\n",
        "    nn.Linear(120, 3),\n",
        ")\n",
        "mycnn = mycnn.to(device)\n",
        "print(mycnn)"
      ],
      "metadata": {
        "colab": {
          "base_uri": "https://localhost:8080/"
        },
        "id": "i4rYp_OMifM5",
        "outputId": "7c42552e-622d-437c-b4f3-57389bfe5ba2"
      },
      "execution_count": 12,
      "outputs": [
        {
          "output_type": "stream",
          "name": "stdout",
          "text": [
            "Sequential(\n",
            "  (0): Conv2d(1, 6, kernel_size=(3, 3), stride=(1, 1), padding=(1, 1))\n",
            "  (1): ReLU()\n",
            "  (2): AvgPool2d(kernel_size=2, stride=2, padding=0)\n",
            "  (3): Flatten(start_dim=1, end_dim=-1)\n",
            "  (4): Linear(in_features=6144, out_features=120, bias=True)\n",
            "  (5): ReLU()\n",
            "  (6): Linear(in_features=120, out_features=3, bias=True)\n",
            ")\n"
          ]
        }
      ]
    },
    {
      "cell_type": "markdown",
      "source": [
        "## Hyperparameter의 설정"
      ],
      "metadata": {
        "id": "ogtLDnU4mC0o"
      }
    },
    {
      "cell_type": "code",
      "source": [
        "# setting hyper-parameters\n",
        "learning_rate = .1\n",
        "num_epochs = 10\n",
        "\n",
        "# loss function and algorithm\n",
        "loss = torch.nn.CrossEntropyLoss() # loss\n",
        "alg = torch.optim.SGD(mycnn.parameters(),lr=learning_rate) # sgd"
      ],
      "metadata": {
        "id": "JvKD6b6Fi4Q8"
      },
      "execution_count": 13,
      "outputs": []
    },
    {
      "cell_type": "markdown",
      "source": [
        "## Model 학습 진행"
      ],
      "metadata": {
        "id": "flA_ZHSRmGKj"
      }
    },
    {
      "cell_type": "code",
      "source": [
        "# training the model\n",
        "loss_train = np.array([])\n",
        "accs_train = np.array([])\n",
        "accs_valid = np.array([])\n",
        "\n",
        "for epoch in range(num_epochs):\n",
        "    i=0\n",
        "    l_epoch = 0\n",
        "    correct = 0\n",
        "    mycnn.train()\n",
        "    for X,y in trainloader:\n",
        "        i=i+1\n",
        "        X,y = X.to(device),y.to(device)\n",
        "        y_hat=mycnn(X)\n",
        "        correct += (y_hat.argmax(dim=1)==y).sum()\n",
        "        l=loss(y_hat,y)\n",
        "        l_epoch+=l\n",
        "        alg.zero_grad()\n",
        "        l.backward()\n",
        "        alg.step()\n",
        "\n",
        "    loss_train = np.append(loss_train,l_epoch.cpu().detach().numpy()/i)\n",
        "    accs_train = np.append(accs_train,correct.cpu()/len(trainset))\n",
        "\n",
        "    correct = 0\n",
        "    mycnn.eval()\n",
        "    for X,y in validloader:\n",
        "        X,y = X.to(device),y.to(device)\n",
        "        y_hat = mycnn(X)\n",
        "        correct += (y_hat.argmax(dim=1)==y).sum()\n",
        "\n",
        "    accs_valid = np.append(accs_valid,correct.cpu()/len(validset))\n",
        "\n",
        "    plt.figure(2,dpi=80)\n",
        "    plt.subplot(121)\n",
        "    plt.plot(loss_train,label='train loss')\n",
        "    plt.legend(loc='upper right')\n",
        "    plt.subplot(122)\n",
        "    plt.plot(accs_train,label='train accuracy')\n",
        "    plt.plot(accs_valid,label='valid accuracy')\n",
        "    plt.legend(loc='upper left')\n",
        "    plt.title('epoch: %d '%(epoch))\n",
        "    plt.savefig('loss_curve.png')\n",
        "#        plt.show()\n",
        "    plt.close(2)\n",
        "\n",
        "    if epoch%5 == 0:\n",
        "        print('epoch: %d '%(epoch))\n",
        "        print('train loss: ',loss_train[-1])\n",
        "        print('train accuracy: ',accs_train[-1])\n",
        "        print('valid accuracy: ',accs_valid[-1])"
      ],
      "metadata": {
        "colab": {
          "base_uri": "https://localhost:8080/"
        },
        "id": "b3eiLUfAi9-_",
        "outputId": "f781ca9a-2f74-4087-8cc5-908912865b2a"
      },
      "execution_count": 14,
      "outputs": [
        {
          "output_type": "stream",
          "name": "stdout",
          "text": [
            "epoch: 0 \n",
            "train loss:  1.0962351748817845\n",
            "train accuracy:  0.3841666579246521\n",
            "valid accuracy:  0.47999998927116394\n",
            "epoch: 5 \n",
            "train loss:  0.8181844510530171\n",
            "train accuracy:  0.6566666960716248\n",
            "valid accuracy:  0.4699999988079071\n"
          ]
        }
      ]
    },
    {
      "cell_type": "markdown",
      "source": [
        "## 학습과정의 요약"
      ],
      "metadata": {
        "id": "0kfIevYmmIb5"
      }
    },
    {
      "cell_type": "code",
      "source": [
        "plt.figure(2,dpi=80)\n",
        "plt.subplot(121)\n",
        "plt.plot(loss_train,label='train loss')\n",
        "plt.legend(loc='upper right')\n",
        "plt.subplot(122)\n",
        "plt.plot(accs_train,label='train accuracy')\n",
        "plt.plot(accs_valid,label='valid accuracy')\n",
        "plt.legend(loc='lower right')\n",
        "plt.show()\n",
        ""
      ],
      "metadata": {
        "colab": {
          "base_uri": "https://localhost:8080/",
          "height": 346
        },
        "id": "7i9M3VCVjDlq",
        "outputId": "6969e872-2ddf-411d-8537-8a711c2833ea"
      },
      "execution_count": 15,
      "outputs": [
        {
          "output_type": "display_data",
          "data": {
            "text/plain": [
              "<Figure size 512x384 with 2 Axes>"
            ],
            "image/png": "[encoded data removed]"
          },
          "metadata": {}
        }
      ]
    },
    {
      "cell_type": "markdown",
      "source": [
        "## Validation set에 대한 개별결과 확인 (Inference)"
      ],
      "metadata": {
        "id": "TWff8ua4mKwk"
      }
    },
    {
      "cell_type": "code",
      "source": [
        "from PIL import Image"
      ],
      "metadata": {
        "id": "w0PxC7e5ob5O"
      },
      "execution_count": 16,
      "outputs": []
    },
    {
      "cell_type": "code",
      "source": [
        "N = 42\n",
        "#validset.imgs[N][0]"
      ],
      "metadata": {
        "id": "upyV2wLpnltx"
      },
      "execution_count": 17,
      "outputs": []
    },
    {
      "cell_type": "code",
      "source": [
        "I = Image.open(validset.imgs[N][0])\n",
        "X = train_transforms(I)\n",
        "y = validset.targets[N]\n",
        "\n",
        "print(tgtnames[y])\n",
        "I\n"
      ],
      "metadata": {
        "colab": {
          "base_uri": "https://localhost:8080/",
          "height": 163
        },
        "id": "vgYmC9w4nZ0t",
        "outputId": "e0957f28-c3e3-47c9-937b-bfafda6fedfe"
      },
      "execution_count": 18,
      "outputs": [
        {
          "output_type": "stream",
          "name": "stdout",
          "text": [
            "covid19\n"
          ]
        },
        {
          "output_type": "execute_result",
          "data": {
            "text/plain": [
              "<PIL.PngImagePlugin.PngImageFile image mode=L size=128x128>"
            ],
            "image/png": "[encoded data removed]"
          },
          "metadata": {},
          "execution_count": 18
        }
      ]
    },
    {
      "cell_type": "code",
      "source": [
        "y_hat = mycnn(X.unsqueeze(1).to(device))\n",
        "print(y_hat.cpu().detach().numpy())\n",
        "y_hat = y_hat.argmax(dim=1)\n",
        "print(f'prediction of mycnn: {tgtnames[y_hat.cpu().numpy()[0]]}')"
      ],
      "metadata": {
        "colab": {
          "base_uri": "https://localhost:8080/"
        },
        "id": "yAwNBG47n-FL",
        "outputId": "2e4ebe84-2b91-41b9-f412-3897310a309a"
      },
      "execution_count": 19,
      "outputs": [
        {
          "output_type": "stream",
          "name": "stdout",
          "text": [
            "[[ 2.4561768  -0.19004233 -2.248114  ]]\n",
            "prediction of mycnn: covid19\n"
          ]
        }
      ]
    },
    {
      "cell_type": "markdown",
      "source": [
        "## Validation set에 대한 결과 요약하기"
      ],
      "metadata": {
        "id": "gEB2G04vpaE8"
      }
    },
    {
      "cell_type": "code",
      "source": [
        "y_list = np.array([])\n",
        "y_hat_list = np.array([])\n",
        "for X,y in validloader:\n",
        "  y_hat = mycnn(X.to(device))\n",
        "  y_hat = y_hat.argmax(dim=1)\n",
        "  y_list = np.append(y_list,y)\n",
        "  y_hat_list = np.append(y_hat_list,y_hat.cpu().numpy())\n",
        "print(classification_report(\n",
        "    y_list,\n",
        "    y_hat_list,\n",
        "    target_names=tgtnames))"
      ],
      "metadata": {
        "id": "9FXoyvR2jZXJ"
      },
      "execution_count": 20,
      "outputs": []
    },
    {
      "cell_type": "code",
      "source": [
        "cm = confusion_matrix(\n",
        "    y_list,\n",
        "    y_hat_list,\n",
        "#    normalize='true',\n",
        ")\n",
        "disp = ConfusionMatrixDisplay(\n",
        "    confusion_matrix=cm,\n",
        "    display_labels=tgtnames,\n",
        ")\n",
        "disp.plot(ax=plt.subplots(1, 1, facecolor='white')[1])\n",
        ""
      ],
      "metadata": {
        "colab": {
          "base_uri": "https://localhost:8080/",
          "height": 467
        },
        "id": "UKTExHEOj9Xm",
        "outputId": "1d7af75d-1456-4e99-c893-b82e9260d701"
      },
      "execution_count": 23,
      "outputs": [
        {
          "output_type": "execute_result",
          "data": {
            "text/plain": [
              "<sklearn.metrics._plot.confusion_matrix.ConfusionMatrixDisplay at 0x7bc9f0f1df90>"
            ]
          },
          "metadata": {},
          "execution_count": 23
        },
        {
          "output_type": "display_data",
          "data": {
            "text/plain": [
              "<Figure size 640x480 with 2 Axes>"
            ],
            "image/png": "[encoded data removed]"
          },
          "metadata": {}
        }
      ]
    },
    {
      "cell_type": "markdown",
      "source": [
        "## 유명한 CNN모델들을 활용"
      ],
      "metadata": {
        "id": "xHmbBxEiPAf4"
      }
    },
    {
      "cell_type": "code",
      "source": [
        "mycnn = torchvision.models.vgg11()\n",
        "mycnn"
      ],
      "metadata": {
        "id": "jcjJ2jzA0gIm",
        "outputId": "c9a1dd29-061e-4796-ea16-1634e5fb5b59",
        "colab": {
          "base_uri": "https://localhost:8080/"
        }
      },
      "execution_count": 28,
      "outputs": [
        {
          "output_type": "execute_result",
          "data": {
            "text/plain": [
              "VGG(\n",
              "  (features): Sequential(\n",
              "    (0): Conv2d(3, 64, kernel_size=(3, 3), stride=(1, 1), padding=(1, 1))\n",
              "    (1): ReLU(inplace=True)\n",
              "    (2): MaxPool2d(kernel_size=2, stride=2, padding=0, dilation=1, ceil_mode=False)\n",
              "    (3): Conv2d(64, 128, kernel_size=(3, 3), stride=(1, 1), padding=(1, 1))\n",
              "    (4): ReLU(inplace=True)\n",
              "    (5): MaxPool2d(kernel_size=2, stride=2, padding=0, dilation=1, ceil_mode=False)\n",
              "    (6): Conv2d(128, 256, kernel_size=(3, 3), stride=(1, 1), padding=(1, 1))\n",
              "    (7): ReLU(inplace=True)\n",
              "    (8): Conv2d(256, 256, kernel_size=(3, 3), stride=(1, 1), padding=(1, 1))\n",
              "    (9): ReLU(inplace=True)\n",
              "    (10): MaxPool2d(kernel_size=2, stride=2, padding=0, dilation=1, ceil_mode=False)\n",
              "    (11): Conv2d(256, 512, kernel_size=(3, 3), stride=(1, 1), padding=(1, 1))\n",
              "    (12): ReLU(inplace=True)\n",
              "    (13): Conv2d(512, 512, kernel_size=(3, 3), stride=(1, 1), padding=(1, 1))\n",
              "    (14): ReLU(inplace=True)\n",
              "    (15): MaxPool2d(kernel_size=2, stride=2, padding=0, dilation=1, ceil_mode=False)\n",
              "    (16): Conv2d(512, 512, kernel_size=(3, 3), stride=(1, 1), padding=(1, 1))\n",
              "    (17): ReLU(inplace=True)\n",
              "    (18): Conv2d(512, 512, kernel_size=(3, 3), stride=(1, 1), padding=(1, 1))\n",
              "    (19): ReLU(inplace=True)\n",
              "    (20): MaxPool2d(kernel_size=2, stride=2, padding=0, dilation=1, ceil_mode=False)\n",
              "  )\n",
              "  (avgpool): AdaptiveAvgPool2d(output_size=(7, 7))\n",
              "  (classifier): Sequential(\n",
              "    (0): Linear(in_features=25088, out_features=4096, bias=True)\n",
              "    (1): ReLU(inplace=True)\n",
              "    (2): Dropout(p=0.5, inplace=False)\n",
              "    (3): Linear(in_features=4096, out_features=4096, bias=True)\n",
              "    (4): ReLU(inplace=True)\n",
              "    (5): Dropout(p=0.5, inplace=False)\n",
              "    (6): Linear(in_features=4096, out_features=1000, bias=True)\n",
              "  )\n",
              ")"
            ]
          },
          "metadata": {},
          "execution_count": 28
        }
      ]
    },
    {
      "cell_type": "markdown",
      "source": [
        "- input layer, output layer 를 나의 데이터에 맞추어 변경하기"
      ],
      "metadata": {
        "id": "AypXNzoGQaRO"
      }
    },
    {
      "cell_type": "code",
      "source": [
        "mycnn.features[0] = nn.Conv2d(1,64,3,1,1)\n",
        "mycnn.classifier[6] = nn.Linear(in_features=4096, out_features=3, bias=True)\n",
        "mycnn = mycnn.to(device)\n",
        "mycnn"
      ],
      "metadata": {
        "id": "X-olChC_Prjm",
        "outputId": "43d95130-7d6c-444f-84dd-a95ec4c51165",
        "colab": {
          "base_uri": "https://localhost:8080/"
        }
      },
      "execution_count": 31,
      "outputs": [
        {
          "output_type": "execute_result",
          "data": {
            "text/plain": [
              "VGG(\n",
              "  (features): Sequential(\n",
              "    (0): Conv2d(1, 64, kernel_size=(3, 3), stride=(1, 1), padding=(1, 1))\n",
              "    (1): ReLU(inplace=True)\n",
              "    (2): MaxPool2d(kernel_size=2, stride=2, padding=0, dilation=1, ceil_mode=False)\n",
              "    (3): Conv2d(64, 128, kernel_size=(3, 3), stride=(1, 1), padding=(1, 1))\n",
              "    (4): ReLU(inplace=True)\n",
              "    (5): MaxPool2d(kernel_size=2, stride=2, padding=0, dilation=1, ceil_mode=False)\n",
              "    (6): Conv2d(128, 256, kernel_size=(3, 3), stride=(1, 1), padding=(1, 1))\n",
              "    (7): ReLU(inplace=True)\n",
              "    (8): Conv2d(256, 256, kernel_size=(3, 3), stride=(1, 1), padding=(1, 1))\n",
              "    (9): ReLU(inplace=True)\n",
              "    (10): MaxPool2d(kernel_size=2, stride=2, padding=0, dilation=1, ceil_mode=False)\n",
              "    (11): Conv2d(256, 512, kernel_size=(3, 3), stride=(1, 1), padding=(1, 1))\n",
              "    (12): ReLU(inplace=True)\n",
              "    (13): Conv2d(512, 512, kernel_size=(3, 3), stride=(1, 1), padding=(1, 1))\n",
              "    (14): ReLU(inplace=True)\n",
              "    (15): MaxPool2d(kernel_size=2, stride=2, padding=0, dilation=1, ceil_mode=False)\n",
              "    (16): Conv2d(512, 512, kernel_size=(3, 3), stride=(1, 1), padding=(1, 1))\n",
              "    (17): ReLU(inplace=True)\n",
              "    (18): Conv2d(512, 512, kernel_size=(3, 3), stride=(1, 1), padding=(1, 1))\n",
              "    (19): ReLU(inplace=True)\n",
              "    (20): MaxPool2d(kernel_size=2, stride=2, padding=0, dilation=1, ceil_mode=False)\n",
              "  )\n",
              "  (avgpool): AdaptiveAvgPool2d(output_size=(7, 7))\n",
              "  (classifier): Sequential(\n",
              "    (0): Linear(in_features=25088, out_features=4096, bias=True)\n",
              "    (1): ReLU(inplace=True)\n",
              "    (2): Dropout(p=0.5, inplace=False)\n",
              "    (3): Linear(in_features=4096, out_features=4096, bias=True)\n",
              "    (4): ReLU(inplace=True)\n",
              "    (5): Dropout(p=0.5, inplace=False)\n",
              "    (6): Linear(in_features=4096, out_features=3, bias=True)\n",
              "  )\n",
              ")"
            ]
          },
          "metadata": {},
          "execution_count": 31
        }
      ]
    },
    {
      "cell_type": "code",
      "source": [
        "# setting hyper-parameters\n",
        "learning_rate = .01\n",
        "num_epochs = 30\n",
        "\n",
        "# loss function and algorithm\n",
        "loss = torch.nn.CrossEntropyLoss() # loss\n",
        "alg = torch.optim.SGD(mycnn.parameters(),lr=learning_rate) # sgd\n",
        "\n",
        "# training the model\n",
        "loss_train = np.array([])\n",
        "accs_train = np.array([])\n",
        "accs_valid = np.array([])\n",
        "\n",
        "for epoch in range(num_epochs):\n",
        "    i=0\n",
        "    l_epoch = 0\n",
        "    correct = 0\n",
        "    mycnn.train()\n",
        "    for X,y in trainloader:\n",
        "        i=i+1\n",
        "        X,y = X.to(device),y.to(device)\n",
        "        y_hat = mycnn(X)\n",
        "        correct += (y_hat.argmax(dim=1)==y).sum()\n",
        "        l=loss(y_hat,y)\n",
        "        l_epoch+=l\n",
        "        alg.zero_grad()\n",
        "        l.backward()\n",
        "        alg.step()\n",
        "\n",
        "    loss_train = np.append(loss_train,l_epoch.cpu().detach().numpy()/i)\n",
        "    accs_train = np.append(accs_train,correct.cpu()/len(trainset))\n",
        "\n",
        "    correct = 0\n",
        "    mycnn.eval()\n",
        "    for X,y in validloader:\n",
        "        X,y = X.to(device),y.to(device)\n",
        "        y_hat = mycnn(X)\n",
        "        correct += (y_hat.argmax(dim=1)==y).sum()\n",
        "\n",
        "    accs_valid = np.append(accs_valid,correct.cpu()/len(validset))\n",
        "\n",
        "    plt.figure(2,dpi=80)\n",
        "    plt.subplot(121)\n",
        "    plt.plot(loss_train,label='train loss')\n",
        "    plt.legend(loc='upper right')\n",
        "    plt.subplot(122)\n",
        "    plt.plot(accs_train,label='train accuracy')\n",
        "    plt.plot(accs_valid,label='valid accuracy')\n",
        "    plt.legend(loc='upper left')\n",
        "    plt.title('epoch: %d '%(epoch))\n",
        "    plt.savefig('loss_curve.png')\n",
        "#        plt.show()\n",
        "    plt.close(2)\n",
        "\n",
        "    if epoch%5 == 0:\n",
        "        print('epoch: %d '%(epoch))\n",
        "        print('train loss: ',loss_train[-1])\n",
        "        print('train accuracy: ',accs_train[-1])\n",
        "        print('valid accuracy: ',accs_valid[-1])"
      ],
      "metadata": {
        "id": "y4PWCtCXPkyB",
        "outputId": "d4f4d2a3-d17d-4fe6-aaf0-8438548f7f95",
        "colab": {
          "base_uri": "https://localhost:8080/"
        }
      },
      "execution_count": 36,
      "outputs": [
        {
          "output_type": "stream",
          "name": "stdout",
          "text": [
            "epoch: 0 \n",
            "train loss:  0.8243453377171567\n",
            "train accuracy:  0.6458333134651184\n",
            "valid accuracy:  0.6499999761581421\n",
            "epoch: 5 \n",
            "train loss:  0.6518391057064659\n",
            "train accuracy:  0.7300000190734863\n",
            "valid accuracy:  0.5766666531562805\n",
            "epoch: 10 \n",
            "train loss:  0.6160630175941869\n",
            "train accuracy:  0.7591666579246521\n",
            "valid accuracy:  0.7666666507720947\n",
            "epoch: 15 \n",
            "train loss:  0.525925686484889\n",
            "train accuracy:  0.7866666913032532\n",
            "valid accuracy:  0.7400000095367432\n",
            "epoch: 20 \n",
            "train loss:  0.47305870056152344\n",
            "train accuracy:  0.8174999952316284\n",
            "valid accuracy:  0.7733333110809326\n",
            "epoch: 25 \n",
            "train loss:  0.42492976941560445\n",
            "train accuracy:  0.8208333253860474\n",
            "valid accuracy:  0.7766666412353516\n"
          ]
        }
      ]
    },
    {
      "cell_type": "code",
      "source": [
        "plt.figure(2,dpi=80)\n",
        "plt.subplot(121)\n",
        "plt.plot(loss_train,label='train loss')\n",
        "plt.legend(loc='upper right')\n",
        "plt.subplot(122)\n",
        "plt.plot(accs_train,label='train accuracy')\n",
        "plt.plot(accs_valid,label='valid accuracy')\n",
        "plt.legend(loc='lower right')\n",
        "plt.show()"
      ],
      "metadata": {
        "id": "SelABEKOQFlL",
        "outputId": "83dd92ae-a5ea-4bb2-8396-08d9dae5c147",
        "colab": {
          "base_uri": "https://localhost:8080/",
          "height": 346
        }
      },
      "execution_count": 37,
      "outputs": [
        {
          "output_type": "display_data",
          "data": {
            "text/plain": [
              "<Figure size 512x384 with 2 Axes>"
            ],
            "image/png": "[encoded data removed]"
          },
          "metadata": {}
        }
      ]
    },
    {
      "cell_type": "code",
      "source": [
        "y_list = np.array([])\n",
        "y_hat_list = np.array([])\n",
        "for X,y in validloader:\n",
        "  y_hat = mycnn(X.to(device))\n",
        "  y_hat = y_hat.argmax(dim=1)\n",
        "  y_list = np.append(y_list,y)\n",
        "  y_hat_list = np.append(y_hat_list,y_hat.cpu().numpy())\n",
        "print(classification_report(\n",
        "    y_list,\n",
        "    y_hat_list,\n",
        "    target_names=tgtnames))"
      ],
      "metadata": {
        "id": "SZXUe-bYQm30",
        "outputId": "2a0680e5-326b-4f5a-d3d3-1029a90ce7d6",
        "colab": {
          "base_uri": "https://localhost:8080/"
        }
      },
      "execution_count": 38,
      "outputs": [
        {
          "output_type": "stream",
          "name": "stdout",
          "text": [
            "              precision    recall  f1-score   support\n",
            "\n",
            "     covid19       0.95      0.71      0.81       100\n",
            "      normal       0.90      0.74      0.81       100\n",
            "     opacity       0.66      0.94      0.77       100\n",
            "\n",
            "    accuracy                           0.80       300\n",
            "   macro avg       0.84      0.80      0.80       300\n",
            "weighted avg       0.84      0.80      0.80       300\n",
            "\n"
          ]
        }
      ]
    },
    {
      "cell_type": "code",
      "source": [
        "cm = confusion_matrix(\n",
        "    y_list,\n",
        "    y_hat_list,\n",
        "#    normalize='true',\n",
        ")\n",
        "disp = ConfusionMatrixDisplay(\n",
        "    confusion_matrix=cm,\n",
        "    display_labels=tgtnames,\n",
        ")\n",
        "disp.plot(ax=plt.subplots(1, 1, facecolor='white')[1])\n",
        ""
      ],
      "metadata": {
        "id": "X9pP3bLNQ_oW",
        "outputId": "25e9bb41-abfb-4bf1-ecda-ed4fdff0bc0f",
        "colab": {
          "base_uri": "https://localhost:8080/",
          "height": 467
        }
      },
      "execution_count": 39,
      "outputs": [
        {
          "output_type": "execute_result",
          "data": {
            "text/plain": [
              "<sklearn.metrics._plot.confusion_matrix.ConfusionMatrixDisplay at 0x7bc870598dc0>"
            ]
          },
          "metadata": {},
          "execution_count": 39
        },
        {
          "output_type": "display_data",
          "data": {
            "text/plain": [
              "<Figure size 640x480 with 2 Axes>"
            ],
            "image/png": "[encoded data removed]"
          },
          "metadata": {}
        }
      ]
    }
  ]
}