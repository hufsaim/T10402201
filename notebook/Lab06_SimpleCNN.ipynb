{
  "nbformat": 4,
  "nbformat_minor": 0,
  "metadata": {
    "colab": {
      "provenance": [],
      "gpuType": "T4",
      "mount_file_id": "1cWGUNR-nCVm30wrjaiqqCnly3559OmQI",
      "authorship_tag": "ABX9TyNuZNQaDwWDtieyrZFsdfA5",
      "include_colab_link": true
    },
    "kernelspec": {
      "name": "python3",
      "display_name": "Python 3"
    },
    "language_info": {
      "name": "python"
    },
    "accelerator": "GPU",
    "gpuClass": "standard"
  },
  "cells": [
    {
      "cell_type": "markdown",
      "metadata": {
        "id": "view-in-github",
        "colab_type": "text"
      },
      "source": [
        "<a href=\"https://colab.research.google.com/github/hufsaim/T10402201/blob/master/notebook/Lab06_SimpleCNN.ipynb\" target=\"_parent\"><img src=\"https://colab.research.google.com/assets/colab-badge.svg\" alt=\"Open In Colab\"/></a>"
      ]
    },
    {
      "cell_type": "code",
      "execution_count": 2,
      "metadata": {
        "id": "ln1P8MGQhfk8"
      },
      "outputs": [],
      "source": [
        "import torch\n",
        "import torch.nn as nn\n",
        "import torch.optim as optim\n",
        "import torchvision\n",
        "import torchvision.transforms as transforms\n",
        "import matplotlib.pyplot as plt\n",
        "import numpy as np\n",
        "     "
      ]
    },
    {
      "cell_type": "code",
      "source": [
        "device = torch.device(\"cuda:0\" if torch.cuda.is_available() else \"cpu\")\n",
        "# Assuming that we are on a CUDA machine, this should print a CUDA device:\n",
        "print(device)"
      ],
      "metadata": {
        "colab": {
          "base_uri": "https://localhost:8080/"
        },
        "id": "Qf4tZfnrhtnd",
        "outputId": "8a3622e7-9dd4-4c90-8658-ea3ae56f94de"
      },
      "execution_count": 3,
      "outputs": [
        {
          "output_type": "stream",
          "name": "stdout",
          "text": [
            "cuda:0\n"
          ]
        }
      ]
    },
    {
      "cell_type": "code",
      "source": [
        "path_train = '/content/drive/data/xray/covid19/train/'\n",
        "path_valid = '/content/drive/data/xray/covid19/valid/'"
      ],
      "metadata": {
        "id": "iqJiCdVRhvB5"
      },
      "execution_count": 4,
      "outputs": []
    },
    {
      "cell_type": "markdown",
      "source": [
        "## 영상데이터에 대한 전처리과정 정의하기"
      ],
      "metadata": {
        "id": "qDbPpEkipMN1"
      }
    },
    {
      "cell_type": "code",
      "source": [
        "train_transforms = transforms.Compose(\n",
        "      [\n",
        "          transforms.Grayscale(num_output_channels=1),\n",
        "          transforms.Resize((64,64)),\n",
        "          transforms.ToTensor(),\n",
        "      ]\n",
        "    )"
      ],
      "metadata": {
        "id": "-q1tk8EFhwiP"
      },
      "execution_count": 5,
      "outputs": []
    },
    {
      "cell_type": "markdown",
      "source": [
        "## ImageFolder를 활용하여 data loader를 생성하기"
      ],
      "metadata": {
        "id": "TjuefJMopQfo"
      }
    },
    {
      "cell_type": "code",
      "source": [
        "batch_size = 32\n",
        "\n",
        "trainset = torchvision.datasets.ImageFolder(root = path_train,transform=train_transforms)\n",
        "validset = torchvision.datasets.ImageFolder(root = path_valid,transform=train_transforms)\n",
        "\n",
        "trainloader = torch.utils.data.DataLoader(trainset,batch_size=batch_size,shuffle=True)\n",
        "validloader = torch.utils.data.DataLoader(validset,batch_size=batch_size,shuffle=False)"
      ],
      "metadata": {
        "id": "-L9UIjoOhyuK"
      },
      "execution_count": 6,
      "outputs": []
    },
    {
      "cell_type": "code",
      "source": [
        "tgtnames = trainset.classes\n",
        "print(tgtnames)"
      ],
      "metadata": {
        "colab": {
          "base_uri": "https://localhost:8080/"
        },
        "id": "UQSA0qZaiNQe",
        "outputId": "a07df79d-95f8-437d-a772-1b7ffda23e99"
      },
      "execution_count": 7,
      "outputs": [
        {
          "output_type": "stream",
          "name": "stdout",
          "text": [
            "['covid19', 'normal', 'opacity']\n"
          ]
        }
      ]
    },
    {
      "cell_type": "code",
      "source": [
        "for X, y in trainloader:\n",
        "  print(X.shape)\n",
        "  print(y.shape)\n",
        "  I = X[0][0].numpy()\n",
        "  plt.figure(dpi=128)\n",
        "  plt.imshow(I,cmap='gray')\n",
        "  plt.title(tgtnames[y[0]])\n",
        "  plt.show()\n",
        "  break"
      ],
      "metadata": {
        "colab": {
          "base_uri": "https://localhost:8080/",
          "height": 608
        },
        "id": "U_p89VZhidlg",
        "outputId": "5efe18e0-891b-48bb-b507-5951ae45ac4c"
      },
      "execution_count": 9,
      "outputs": [
        {
          "output_type": "stream",
          "name": "stdout",
          "text": [
            "torch.Size([32, 1, 64, 64])\n",
            "torch.Size([32])\n"
          ]
        },
        {
          "output_type": "display_data",
          "data": {
            "text/plain": [
              "<Figure size 819.2x614.4 with 1 Axes>"
            ],
            "image/png": "[encoded data removed]"
          },
          "metadata": {}
        }
      ]
    },
    {
      "cell_type": "markdown",
      "source": [
        "## CNN model을 정의해보기"
      ],
      "metadata": {
        "id": "tIDc6XSalIm8"
      }
    },
    {
      "cell_type": "code",
      "source": [
        "mycnn = torch.nn.Sequential(\n",
        "    nn.Conv2d(in_channels=1, out_channels=6, kernel_size=3, padding=1),\n",
        "    nn.ReLU(),\n",
        "    nn.AvgPool2d(kernel_size=2, stride=2),\n",
        "    nn.Flatten(),\n",
        "    nn.Linear(in_features=6*32*32, out_features=120),\n",
        "    nn.ReLU(),\n",
        "    nn.Linear(120, 3),\n",
        ")\n",
        "mycnn = mycnn.to(device)\n",
        "print(mycnn)"
      ],
      "metadata": {
        "colab": {
          "base_uri": "https://localhost:8080/"
        },
        "id": "i4rYp_OMifM5",
        "outputId": "efe6f20a-2dda-4cc8-85d4-19e07e9530f4"
      },
      "execution_count": 14,
      "outputs": [
        {
          "output_type": "stream",
          "name": "stdout",
          "text": [
            "Sequential(\n",
            "  (0): Conv2d(1, 6, kernel_size=(3, 3), stride=(1, 1), padding=(1, 1))\n",
            "  (1): ReLU()\n",
            "  (2): AvgPool2d(kernel_size=2, stride=2, padding=0)\n",
            "  (3): Flatten(start_dim=1, end_dim=-1)\n",
            "  (4): Linear(in_features=6144, out_features=120, bias=True)\n",
            "  (5): ReLU()\n",
            "  (6): Linear(in_features=120, out_features=3, bias=True)\n",
            ")\n"
          ]
        }
      ]
    },
    {
      "cell_type": "markdown",
      "source": [
        "## Hyperparameter의 설정"
      ],
      "metadata": {
        "id": "ogtLDnU4mC0o"
      }
    },
    {
      "cell_type": "code",
      "source": [
        "# setting hyper-parameters\n",
        "learning_rate = .1\n",
        "num_epochs = 30\n",
        "\n",
        "# loss function and algorithm\n",
        "loss = torch.nn.CrossEntropyLoss() # loss\n",
        "alg = torch.optim.SGD(mycnn.parameters(),lr=learning_rate) # sgd"
      ],
      "metadata": {
        "id": "JvKD6b6Fi4Q8"
      },
      "execution_count": 15,
      "outputs": []
    },
    {
      "cell_type": "markdown",
      "source": [
        "## Model 학습 진행"
      ],
      "metadata": {
        "id": "flA_ZHSRmGKj"
      }
    },
    {
      "cell_type": "code",
      "source": [
        "# training the model\n",
        "loss_train = np.array([])\n",
        "accs_train = np.array([])\n",
        "accs_valid = np.array([])\n",
        "\n",
        "for epoch in range(num_epochs):\n",
        "    i=0\n",
        "    l_epoch = 0\n",
        "    correct = 0\n",
        "    mycnn.train()\n",
        "    for X,y in trainloader:\n",
        "        i=i+1\n",
        "        X,y = X.to(device),y.to(device)\n",
        "        y_hat=mycnn(X)\n",
        "        correct += (y_hat.argmax(dim=1)==y).sum()\n",
        "        l=loss(y_hat,y)\n",
        "        l_epoch+=l\n",
        "        alg.zero_grad()\n",
        "        l.backward()\n",
        "        alg.step()\n",
        "\n",
        "    loss_train = np.append(loss_train,l_epoch.cpu().detach().numpy()/i)\n",
        "    accs_train = np.append(accs_train,correct.cpu()/len(trainset))\n",
        "\n",
        "    correct = 0\n",
        "    mycnn.eval()\n",
        "    for X,y in validloader:\n",
        "        X,y = X.to(device),y.to(device)\n",
        "        y_hat = mycnn(X)\n",
        "        correct += (y_hat.argmax(dim=1)==y).sum()\n",
        "\n",
        "    accs_valid = np.append(accs_valid,correct.cpu()/len(validset))\n",
        "\n",
        "    plt.figure(2,dpi=80)\n",
        "    plt.subplot(121)\n",
        "    plt.plot(loss_train,label='train loss')\n",
        "    plt.legend(loc='upper right')\n",
        "    plt.subplot(122)\n",
        "    plt.plot(accs_train,label='train accuracy')\n",
        "    plt.plot(accs_valid,label='valid accuracy')\n",
        "    plt.legend(loc='upper left')\n",
        "    plt.title('epoch: %d '%(epoch))\n",
        "    plt.savefig('loss_curve.png')\n",
        "#        plt.show()\n",
        "    plt.close(2)\n",
        "\n",
        "    if epoch%5 == 0:\n",
        "        print('epoch: %d '%(epoch))\n",
        "        print('train loss: ',loss_train[-1])\n",
        "        print('train accuracy: ',accs_train[-1])\n",
        "        print('valid accuracy: ',accs_valid[-1])"
      ],
      "metadata": {
        "colab": {
          "base_uri": "https://localhost:8080/"
        },
        "id": "b3eiLUfAi9-_",
        "outputId": "9723e49b-8904-4c10-cb56-1506ca4b2ef0"
      },
      "execution_count": 16,
      "outputs": [
        {
          "output_type": "stream",
          "name": "stdout",
          "text": [
            "epoch: 0 \n",
            "train loss:  1.0647422388980263\n",
            "train accuracy:  0.4466666579246521\n",
            "valid accuracy:  0.4466666579246521\n",
            "epoch: 5 \n",
            "train loss:  0.7994950445074784\n",
            "train accuracy:  0.6583333611488342\n",
            "valid accuracy:  0.6333333253860474\n",
            "epoch: 10 \n",
            "train loss:  0.6871462872153834\n",
            "train accuracy:  0.7016666531562805\n",
            "valid accuracy:  0.70333331823349\n",
            "epoch: 15 \n",
            "train loss:  0.62472192864669\n",
            "train accuracy:  0.7441666722297668\n",
            "valid accuracy:  0.7200000286102295\n",
            "epoch: 20 \n",
            "train loss:  0.5148573925620631\n",
            "train accuracy:  0.7875000238418579\n",
            "valid accuracy:  0.6566666960716248\n",
            "epoch: 25 \n",
            "train loss:  0.4458579013222142\n",
            "train accuracy:  0.8183333277702332\n",
            "valid accuracy:  0.7666666507720947\n"
          ]
        }
      ]
    },
    {
      "cell_type": "markdown",
      "source": [
        "## 학습과정의 요약"
      ],
      "metadata": {
        "id": "0kfIevYmmIb5"
      }
    },
    {
      "cell_type": "code",
      "source": [
        "plt.figure(2,dpi=80)\n",
        "plt.subplot(121)\n",
        "plt.plot(loss_train,label='train loss')\n",
        "plt.legend(loc='upper right')\n",
        "plt.subplot(122)\n",
        "plt.plot(accs_train,label='train accuracy')\n",
        "plt.plot(accs_valid,label='valid accuracy')\n",
        "plt.legend(loc='lower right')\n",
        "plt.show()\n",
        "     "
      ],
      "metadata": {
        "colab": {
          "base_uri": "https://localhost:8080/",
          "height": 346
        },
        "id": "7i9M3VCVjDlq",
        "outputId": "0febab9b-48a8-437a-9059-cc6b74a77030"
      },
      "execution_count": 18,
      "outputs": [
        {
          "output_type": "display_data",
          "data": {
            "text/plain": [
              "<Figure size 512x384 with 2 Axes>"
            ],
            "image/png": "[encoded data removed]"
          },
          "metadata": {}
        }
      ]
    },
    {
      "cell_type": "markdown",
      "source": [
        "## Validation set에 대한 개별결과 확인 (Inference)"
      ],
      "metadata": {
        "id": "TWff8ua4mKwk"
      }
    },
    {
      "cell_type": "code",
      "source": [
        "from PIL import Image"
      ],
      "metadata": {
        "id": "w0PxC7e5ob5O"
      },
      "execution_count": 41,
      "outputs": []
    },
    {
      "cell_type": "code",
      "source": [
        "N = 42\n",
        "validset.imgs[N][0]"
      ],
      "metadata": {
        "colab": {
          "base_uri": "https://localhost:8080/",
          "height": 36
        },
        "id": "upyV2wLpnltx",
        "outputId": "411f4436-f621-48f4-9eca-1f29fb325500"
      },
      "execution_count": 42,
      "outputs": [
        {
          "output_type": "execute_result",
          "data": {
            "text/plain": [
              "'/content/drive/MyDrive/class/BMEAI/data/xray/covid19/valid/covid19/covid_549.png'"
            ],
            "application/vnd.google.colaboratory.intrinsic+json": {
              "type": "string"
            }
          },
          "metadata": {},
          "execution_count": 42
        }
      ]
    },
    {
      "cell_type": "code",
      "source": [
        "I = Image.open(validset.imgs[N][0])\n",
        "X = train_transforms(I)\n",
        "y = validset.targets[N]\n",
        "\n",
        "print(tgtnames[y])\n",
        "I\n"
      ],
      "metadata": {
        "colab": {
          "base_uri": "https://localhost:8080/",
          "height": 163
        },
        "id": "vgYmC9w4nZ0t",
        "outputId": "6fe1b5cc-8fb5-465c-ceb1-aa3ba0b1ad6f"
      },
      "execution_count": 43,
      "outputs": [
        {
          "output_type": "stream",
          "name": "stdout",
          "text": [
            "covid19\n"
          ]
        },
        {
          "output_type": "execute_result",
          "data": {
            "text/plain": [
              "<PIL.PngImagePlugin.PngImageFile image mode=L size=128x128 at 0x7F17414C1750>"
            ],
            "image/png": "[encoded data removed]"
          },
          "metadata": {},
          "execution_count": 43
        }
      ]
    },
    {
      "cell_type": "code",
      "source": [
        "y_hat = mycnn(X.unsqueeze(1).to(device))\n",
        "print(y_hat.cpu().detach().numpy())\n",
        "y_hat = y_hat.argmax(dim=1)\n",
        "print(f'prediction of mycnn: {tgtnames[y_hat.cpu().numpy()[0]]}')"
      ],
      "metadata": {
        "colab": {
          "base_uri": "https://localhost:8080/"
        },
        "id": "yAwNBG47n-FL",
        "outputId": "6762e5ae-ce89-4e78-a0c5-0dfc3a734644"
      },
      "execution_count": 52,
      "outputs": [
        {
          "output_type": "stream",
          "name": "stdout",
          "text": [
            "[[ 7.4568396 -1.4722638 -5.913241 ]]\n",
            "prediction of mycnn: covid19\n"
          ]
        }
      ]
    },
    {
      "cell_type": "markdown",
      "source": [
        "## Validation set에 대한 결과 요약하기"
      ],
      "metadata": {
        "id": "gEB2G04vpaE8"
      }
    },
    {
      "cell_type": "code",
      "source": [
        "y_list = np.array([])\n",
        "y_hat_list = np.array([])\n",
        "for X,y in validloader:\n",
        "  y_hat = mycnn(X.to(device))    \n",
        "  y_hat = y_hat.argmax(dim=1)\n",
        "  y_list = np.append(y_list,y)\n",
        "  y_hat_list = np.append(y_hat_list,y_hat.cpu().numpy())"
      ],
      "metadata": {
        "id": "9FXoyvR2jZXJ"
      },
      "execution_count": 57,
      "outputs": []
    },
    {
      "cell_type": "code",
      "source": [
        "from sklearn.metrics import (\n",
        "    classification_report, confusion_matrix,\n",
        "    ConfusionMatrixDisplay\n",
        ")"
      ],
      "metadata": {
        "id": "RcDUULTbj6Ys"
      },
      "execution_count": 58,
      "outputs": []
    },
    {
      "cell_type": "code",
      "source": [
        "print(classification_report(\n",
        "    y_list,\n",
        "    y_hat_list,\n",
        "    target_names=tgtnames))"
      ],
      "metadata": {
        "colab": {
          "base_uri": "https://localhost:8080/"
        },
        "id": "Y4Ie_xK4j71Q",
        "outputId": "9d32a741-5e62-4a47-dc9d-ad8fd69e5668"
      },
      "execution_count": 59,
      "outputs": [
        {
          "output_type": "stream",
          "name": "stdout",
          "text": [
            "              precision    recall  f1-score   support\n",
            "\n",
            "     covid19       0.75      0.85      0.80       100\n",
            "      normal       0.89      0.58      0.70       100\n",
            "     opacity       0.70      0.85      0.77       100\n",
            "\n",
            "    accuracy                           0.76       300\n",
            "   macro avg       0.78      0.76      0.76       300\n",
            "weighted avg       0.78      0.76      0.76       300\n",
            "\n"
          ]
        }
      ]
    },
    {
      "cell_type": "code",
      "source": [
        "cm = confusion_matrix(\n",
        "    y_list,\n",
        "    y_hat_list,\n",
        "#    normalize='true',\n",
        ")\n",
        "disp = ConfusionMatrixDisplay(\n",
        "    confusion_matrix=cm,\n",
        "    display_labels=tgtnames,\n",
        ")\n",
        "disp.plot(ax=plt.subplots(1, 1, facecolor='white')[1])\n",
        "     "
      ],
      "metadata": {
        "colab": {
          "base_uri": "https://localhost:8080/",
          "height": 467
        },
        "id": "UKTExHEOj9Xm",
        "outputId": "fd42aaa4-c50e-436e-a7ad-650f7839540e"
      },
      "execution_count": 61,
      "outputs": [
        {
          "output_type": "execute_result",
          "data": {
            "text/plain": [
              "<sklearn.metrics._plot.confusion_matrix.ConfusionMatrixDisplay at 0x7f1767932140>"
            ]
          },
          "metadata": {},
          "execution_count": 61
        },
        {
          "output_type": "display_data",
          "data": {
            "text/plain": [
              "<Figure size 640x480 with 2 Axes>"
            ],
            "image/png": "[encoded data removed]"
          },
          "metadata": {}
        }
      ]
    }
  ]
}