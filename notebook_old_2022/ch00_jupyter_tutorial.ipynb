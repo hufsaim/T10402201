{
 "cells": [
  {
   "cell_type": "markdown",
   "metadata": {},
   "source": [
    "# 파이썬 맛보기\n",
    "- 첫 실습은 기초적인 파이썬 코드를 google colab(또는 jupyter notebook)을 통해 연습해 보는 것입니다.\n",
    "- notebook(ipynb)파일은 크게 코드를 담고 있는 cell과 markdown을 담고 있는 cell로 나누어 볼 수 있습니다. \n",
    "- 코드를 담고 있는 cell은 실행을 하여 연산을 하거나 새로운 변수 또는 함수 등을 정의할 수 있습니다. \n",
    "- markdown을 담고 있는 cell은 실행을 하여 스타일을 적용시킬 수 있습니다.\n",
    "- 지금 이 cell은 markdown을 담고 있고, 아래에는 python code를 담고 있는 cell들이 있을 것입니다.\n",
    "- cell을 하나씩 실행시켜 보면서 파이썬이 아직 익숙하지 않은 학생들은 파이썬 프로그래밍에 대한 감을 익히도록 합니다. cell 안에 있는 내용을 다양하게 수정하여 결과를 print로 출력하여 이해를 높이도록 합시다."
   ]
  },
  {
   "cell_type": "markdown",
   "metadata": {},
   "source": [
    "## 기본 데이터 타입"
   ]
  },
  {
   "cell_type": "code",
   "execution_count": 1,
   "metadata": {},
   "outputs": [
    {
     "name": "stdout",
     "output_type": "stream",
     "text": [
      "Python 3.8.12\n"
     ]
    }
   ],
   "source": [
    "!python --version"
   ]
  },
  {
   "cell_type": "code",
   "execution_count": 2,
   "metadata": {},
   "outputs": [
    {
     "name": "stdout",
     "output_type": "stream",
     "text": [
      "7 <class 'int'>\n",
      "7.0 <class 'float'>\n"
     ]
    }
   ],
   "source": [
    "x = 7\n",
    "print(x, type(x))\n",
    "y = 7.0\n",
    "print(y, type(y))"
   ]
  },
  {
   "cell_type": "code",
   "execution_count": 3,
   "metadata": {},
   "outputs": [
    {
     "name": "stdout",
     "output_type": "stream",
     "text": [
      "1\n",
      "2\n",
      "4\n",
      "16\n"
     ]
    }
   ],
   "source": [
    "x = 1\n",
    "print(x)\n",
    "\n",
    "x += 1\n",
    "print(x)\n",
    "\n",
    "x += 2\n",
    "print(x)\n",
    "\n",
    "x *= 4\n",
    "print(x)"
   ]
  },
  {
   "cell_type": "code",
   "execution_count": 4,
   "metadata": {},
   "outputs": [
    {
     "name": "stdout",
     "output_type": "stream",
     "text": [
      "\n",
      " x: True \t type of x: <class 'bool'> \n",
      " y: False \t type of y: <class 'bool'>\n"
     ]
    }
   ],
   "source": [
    "x = True\n",
    "y = False\n",
    "print('\\n', 'x:',x,'\\t', 'type of x:',type(x), '\\n','y:',y,'\\t', 'type of y:',type(y))"
   ]
  },
  {
   "cell_type": "code",
   "execution_count": 5,
   "metadata": {},
   "outputs": [
    {
     "name": "stdout",
     "output_type": "stream",
     "text": [
      "False\n",
      "True\n",
      "False\n",
      "True\n"
     ]
    }
   ],
   "source": [
    "print(x and y)\n",
    "print(x or y)\n",
    "print(not x)\n",
    "print(x != y)"
   ]
  },
  {
   "cell_type": "code",
   "execution_count": 6,
   "metadata": {},
   "outputs": [
    {
     "name": "stdout",
     "output_type": "stream",
     "text": [
      "Hello HUFSBME!\n"
     ]
    }
   ],
   "source": [
    "s1 = \"Hello\"\n",
    "s2 = \"HUFSBME\"\n",
    "\n",
    "print(s1+' '+s2 + '!')"
   ]
  },
  {
   "cell_type": "markdown",
   "metadata": {},
   "source": [
    "## 문자열 포맷팅\n",
    "- 문자열 포맷팅은 결과를 출력하거나 자료를 다룰 때에 매우 유용한 기능입니다. \n",
    "- 파이썬에는 c언어에서와 비슷한 문자열 포맷팅방법 등 다양한 방법이 존재합니다.\n",
    "- 파이썬 3.6부터 f로 시작하는 문자열 포맷팅이 도입되었는데 {}에 변수나 연산을 넣는 것으로 포맷팅이 가능하여 가독성이 좋고 사용이 쉽습니다."
   ]
  },
  {
   "cell_type": "code",
   "execution_count": 7,
   "metadata": {},
   "outputs": [
    {
     "name": "stdout",
     "output_type": "stream",
     "text": [
      "오늘은 2020년 9월 1일 입니다.\n",
      "x의 변수형은 <class 'str'>입니다.\n",
      "x의 길이는 20입니다\n"
     ]
    }
   ],
   "source": [
    "yy = 2020\n",
    "mm = 9\n",
    "dd = 1\n",
    "x = f'오늘은 {yy}년 {mm}월 {dd}일 입니다.'\n",
    "\n",
    "print(x)\n",
    "print(f'x의 변수형은 {type(x)}입니다.')\n",
    "print(f'x의 길이는 {len(x)}입니다')"
   ]
  },
  {
   "cell_type": "code",
   "execution_count": 8,
   "metadata": {},
   "outputs": [
    {
     "name": "stdout",
     "output_type": "stream",
     "text": [
      "오늘의 날짜: 2022-03-07\n"
     ]
    }
   ],
   "source": [
    "from datetime import date\n",
    "today = f'오늘의 날짜: {date.today()}'\n",
    "print(today)"
   ]
  },
  {
   "cell_type": "code",
   "execution_count": 9,
   "metadata": {},
   "outputs": [
    {
     "name": "stdout",
     "output_type": "stream",
     "text": [
      "date of today: 2022-03-07\n"
     ]
    }
   ],
   "source": [
    "today_eng = today.replace('오늘의 날짜','date of today')\n",
    "print(today_eng)"
   ]
  },
  {
   "cell_type": "markdown",
   "metadata": {},
   "source": [
    "## 리스트와 인덱싱\n",
    "- 리스트를 만들고 다루는 것은 매우 중요합니다. \n",
    "- 리스트를 잘 다루기 위해서는 인덱싱을 이해해야 합니다."
   ]
  },
  {
   "cell_type": "code",
   "execution_count": 10,
   "metadata": {},
   "outputs": [
    {
     "name": "stdout",
     "output_type": "stream",
     "text": [
      "x = [1, 2, 3, 4, 5, 6, 7, 8]\n"
     ]
    }
   ],
   "source": [
    "x = [1,2,3,4,5,6,7,8]\n",
    "print(f'x = {x}')"
   ]
  },
  {
   "cell_type": "code",
   "execution_count": 11,
   "metadata": {},
   "outputs": [
    {
     "name": "stdout",
     "output_type": "stream",
     "text": [
      "[0, 1, 2, 3]\n",
      "[0, 1, 2, 3, 7]\n",
      "[0, 1, 2, 3]\n",
      "[0, 2, 3]\n"
     ]
    }
   ],
   "source": [
    "x = [0,1,2,3]\n",
    "print(x)\n",
    "x.append(7)\n",
    "print(x)\n",
    "x.pop()\n",
    "print(x)\n",
    "x.pop(1)\n",
    "print(x)"
   ]
  },
  {
   "cell_type": "code",
   "execution_count": 12,
   "metadata": {},
   "outputs": [
    {
     "name": "stdout",
     "output_type": "stream",
     "text": [
      "[1, 2, 3, 4, 5, 6, 7, 8, 9, 10, 11, 12]\n",
      "[4, 5]\n",
      "[5, 6, 7, 8, 9, 10, 11, 12]\n",
      "[1, 2, 3, 4]\n",
      "[1, 2, 3, 4, 5, 6, 7, 8, 9, 10, 11, 12]\n",
      "[3, 6, 9, 12]\n",
      "[1, 2, 3, 4, 5, 6, 7, 8, 9]\n",
      "[2, 3, 4, 5, 6, 7, 8, 9, 10, 11]\n"
     ]
    }
   ],
   "source": [
    "x=[1,2,3,4,5,6,7,8,9,10,11,12]\n",
    "print(x)\n",
    "print(x[3:5])\n",
    "print(x[4:])\n",
    "print(x[:4])\n",
    "print(x[:])\n",
    "print(x[2::3])\n",
    "print(x[:-3])\n",
    "print(x[1:-1])"
   ]
  },
  {
   "cell_type": "code",
   "execution_count": 13,
   "metadata": {},
   "outputs": [
    {
     "name": "stdout",
     "output_type": "stream",
     "text": [
      "y = [0, 1, 2, 3, 4, 5, 6, 7]\n",
      "z = [3, 6, 9, 12, 15, 18]\n"
     ]
    }
   ],
   "source": [
    "y = range(8)\n",
    "z = range(3,20,3)\n",
    "\n",
    "print(f'y = {list(y)}')\n",
    "print(f'z = {list(z)}')"
   ]
  },
  {
   "cell_type": "markdown",
   "metadata": {},
   "source": [
    "## 반복, 조건문\n",
    "- for, if/else 등이 파이썬에서 어떻게 쓰이는지 알아 봅시다."
   ]
  },
  {
   "cell_type": "code",
   "execution_count": 14,
   "metadata": {},
   "outputs": [
    {
     "name": "stdout",
     "output_type": "stream",
     "text": [
      "index: 0\n",
      "index: 1\n",
      "index: 2\n",
      "index: 3\n",
      "index: 4\n",
      "index: 5\n",
      "index: 6\n",
      "index: 7\n",
      "index: 8\n",
      "index: 9\n",
      "index: 10\n",
      "index: 11\n"
     ]
    }
   ],
   "source": [
    "for j in range(12):\n",
    "    print(f'index: {j}')"
   ]
  },
  {
   "cell_type": "code",
   "execution_count": 15,
   "metadata": {},
   "outputs": [
    {
     "name": "stdout",
     "output_type": "stream",
     "text": [
      "1\n",
      "2\n",
      "-\n",
      "4\n",
      "5\n",
      "-\n",
      "7\n",
      "8\n",
      "-\n",
      "10\n",
      "11\n",
      "-\n",
      "13\n",
      "14\n",
      "-\n",
      "16\n",
      "17\n",
      "-\n",
      "19\n"
     ]
    }
   ],
   "source": [
    "for x in range(1,20,1):\n",
    "    if x%3==0:\n",
    "        print(f'-')\n",
    "    else:\n",
    "        print(x)"
   ]
  },
  {
   "cell_type": "markdown",
   "metadata": {},
   "source": [
    "> Q. 위의 코드는 3으로 나누어지는 경우에 \"-\"을 출력하였다. 숫자 중에 3, 6, 9가 있으면 3, 6, 9가 있는 만큼 \"-\"을 출력하게 하면 369게임을 구현해 볼 수 있다. 369게임을 구행하는 파이썬코드를 for, if, else 등을 이용해 구현해보자."
   ]
  },
  {
   "cell_type": "code",
   "execution_count": 16,
   "metadata": {},
   "outputs": [
    {
     "name": "stdout",
     "output_type": "stream",
     "text": [
      "1\n"
     ]
    }
   ],
   "source": [
    "for x in range(1,20,1):\n",
    "    # 아래를 수정하여 369코드를 작성해보자\n",
    "    print(x)\n",
    "    break"
   ]
  },
  {
   "cell_type": "markdown",
   "metadata": {},
   "source": [
    "## Numpy 맛보기\n",
    "- numpy는 python에서 다차원의 배열과 관련된 연산을 쉽게 처리할 수 있는 여러 기능들을 포함하는 라이브러리입니다."
   ]
  },
  {
   "cell_type": "code",
   "execution_count": 17,
   "metadata": {},
   "outputs": [],
   "source": [
    "import numpy as np"
   ]
  },
  {
   "cell_type": "markdown",
   "metadata": {},
   "source": [
    "- 1,2,3차원 배열을 각각 만들어 봅시다."
   ]
  },
  {
   "cell_type": "code",
   "execution_count": 18,
   "metadata": {},
   "outputs": [
    {
     "name": "stdout",
     "output_type": "stream",
     "text": [
      "a=[1 2 3]\n",
      "shpae of a: (3,)\n"
     ]
    }
   ],
   "source": [
    "a=np.array([1,2,3])\n",
    "print(f'a={a}')\n",
    "print(f'shpae of a: {a.shape}')"
   ]
  },
  {
   "cell_type": "code",
   "execution_count": 19,
   "metadata": {},
   "outputs": [
    {
     "name": "stdout",
     "output_type": "stream",
     "text": [
      "b=[[1 2 3]\n",
      " [4 5 6]]\n",
      "shpae of b: (2, 3)\n"
     ]
    }
   ],
   "source": [
    "b=np.array([[1,2,3],[4,5,6]])\n",
    "print(f'b={b}')\n",
    "print(f'shpae of b: {b.shape}')"
   ]
  },
  {
   "cell_type": "code",
   "execution_count": 20,
   "metadata": {},
   "outputs": [
    {
     "name": "stdout",
     "output_type": "stream",
     "text": [
      "c=[[[1 2 3]\n",
      "  [4 5 6]]\n",
      "\n",
      " [[6 5 4]\n",
      "  [3 2 1]]]\n",
      "shpae of c: (2, 2, 3)\n"
     ]
    }
   ],
   "source": [
    "c=np.array([[[1,2,3],[4,5,6]],[[6,5,4],[3,2,1]]])\n",
    "print(f'c={c}')\n",
    "print(f'shpae of c: {c.shape}')"
   ]
  },
  {
   "cell_type": "markdown",
   "metadata": {},
   "source": [
    "- 0으로 이루어진 배열, 1로 이루어진 배열, 랜덤변수로 이루어진 배열을 생성해 봅니다."
   ]
  },
  {
   "cell_type": "code",
   "execution_count": 21,
   "metadata": {},
   "outputs": [
    {
     "name": "stdout",
     "output_type": "stream",
     "text": [
      "a = [[0. 0. 0.]\n",
      " [0. 0. 0.]\n",
      " [0. 0. 0.]]\n",
      "datatype of a: float64\n"
     ]
    }
   ],
   "source": [
    "a = np.zeros((3,3))\n",
    "print(f'a = {a}')\n",
    "print(f'datatype of a: {a.dtype}')"
   ]
  },
  {
   "cell_type": "code",
   "execution_count": 22,
   "metadata": {},
   "outputs": [
    {
     "name": "stdout",
     "output_type": "stream",
     "text": [
      "b = [[1. 1. 1.]\n",
      " [1. 1. 1.]\n",
      " [1. 1. 1.]]\n"
     ]
    }
   ],
   "source": [
    "b = np.ones((3,3))\n",
    "print(f'b = {b}')"
   ]
  },
  {
   "cell_type": "code",
   "execution_count": 23,
   "metadata": {},
   "outputs": [
    {
     "name": "stdout",
     "output_type": "stream",
     "text": [
      "c = [[0.05872893 0.22328415 0.42772876]\n",
      " [0.33806274 0.24564593 0.37049925]\n",
      " [0.50306502 0.40252288 0.59115274]]\n"
     ]
    }
   ],
   "source": [
    "c = np.random.random((3,3))\n",
    "print(f'c = {c}')"
   ]
  },
  {
   "cell_type": "markdown",
   "metadata": {},
   "source": [
    "- 배열간의 연산을 수행해 봅시다."
   ]
  },
  {
   "cell_type": "code",
   "execution_count": 24,
   "metadata": {},
   "outputs": [
    {
     "name": "stdout",
     "output_type": "stream",
     "text": [
      "b + c = [[1.05872893 1.22328415 1.42772876]\n",
      " [1.33806274 1.24564593 1.37049925]\n",
      " [1.50306502 1.40252288 1.59115274]]\n"
     ]
    }
   ],
   "source": [
    "print(f'b + c = {b+c}')"
   ]
  },
  {
   "cell_type": "markdown",
   "metadata": {},
   "source": [
    "> Q. multiply와 dot의 차이는?"
   ]
  },
  {
   "cell_type": "code",
   "execution_count": 25,
   "metadata": {},
   "outputs": [
    {
     "name": "stdout",
     "output_type": "stream",
     "text": [
      "a = [[1, 2], [3, 4]]\n",
      "b = [[2, 4], [6, 8]]\n",
      "multiply(a,b) = [[ 2  8]\n",
      " [18 32]]\n",
      "dot(a,b) = [[14 20]\n",
      " [30 44]]\n"
     ]
    }
   ],
   "source": [
    "a = [[1,2],[3,4]]\n",
    "print(f'a = {a}')\n",
    "b = [[2,4],[6,8]]\n",
    "print(f'b = {b}')\n",
    "\n",
    "print(f'multiply(a,b) = {np.multiply(a,b)}')\n",
    "print(f'dot(a,b) = {np.dot(a,b)}')"
   ]
  }
 ],
 "metadata": {
  "interpreter": {
   "hash": "e1315e6714f2518a6216a6eec3b047587d10875bf19b853b35d3e5c84c569e2a"
  },
  "kernelspec": {
   "display_name": "Python 3.8.12 ('torch')",
   "language": "python",
   "name": "python3"
  },
  "language_info": {
   "codemirror_mode": {
    "name": "ipython",
    "version": 3
   },
   "file_extension": ".py",
   "mimetype": "text/x-python",
   "name": "python",
   "nbconvert_exporter": "python",
   "pygments_lexer": "ipython3",
   "version": "3.8.12"
  },
  "orig_nbformat": 4
 },
 "nbformat": 4,
 "nbformat_minor": 2
}
